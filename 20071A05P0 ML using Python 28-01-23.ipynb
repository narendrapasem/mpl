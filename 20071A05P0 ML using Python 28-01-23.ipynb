{
 "cells": [
  {
   "cell_type": "markdown",
   "metadata": {},
   "source": [
    "### Lists"
   ]
  },
  {
   "cell_type": "markdown",
   "metadata": {},
   "source": [
    "1) Given a list of integer values. Write a python program to check whether it contains same number in adjacent position. Display the count of such adjacent occurences."
   ]
  },
  {
   "cell_type": "code",
   "execution_count": null,
   "metadata": {},
   "outputs": [],
   "source": [
    "def adjacent_occurences(values):\n",
    "    cnt = 0\n",
    "    for i in range(len(values)-1):\n",
    "        if(values[i]==values[i+1]):\n",
    "            cnt+=1\n",
    "    return cnt\n",
    "            \n",
    "\n",
    "print('Enter a list of integers')\n",
    "values = list(map(int,input().split()))\n",
    "adjacent_occurences(values)"
   ]
  },
  {
   "cell_type": "markdown",
   "metadata": {},
   "source": [
    "2) Given a string containing uppercase characters (A-Z), compress the string using Run Length encoding.\n",
    " <br>Repetition of character has to be replaced by storing the length of that run.\n",
    " <br>Write a python function which performs the run length encoding for a given string and returns the run length encoded string"
   ]
  },
  {
   "cell_type": "code",
   "execution_count": 1,
   "metadata": {},
   "outputs": [
    {
     "name": "stdout",
     "output_type": "stream",
     "text": [
      "Enter a string : AAAABC\n"
     ]
    },
    {
     "data": {
      "text/plain": [
       "'4A1B1C'"
      ]
     },
     "execution_count": 1,
     "metadata": {},
     "output_type": "execute_result"
    }
   ],
   "source": [
    "def string_encoding(s):\n",
    "    s += '0'\n",
    "    encoded = ''\n",
    "    p1,p2 = 0,0\n",
    "    while(p2<len(s)):\n",
    "        if(s[p1]==s[p2]):\n",
    "            p2+=1\n",
    "        else:\n",
    "            x = p2-p1\n",
    "            encoded += str(x)\n",
    "            encoded += s[p1]\n",
    "            p1 = p2\n",
    "    return encoded\n",
    "\n",
    "s = input('Enter a string : ')\n",
    "string_encoding(s)"
   ]
  },
  {
   "cell_type": "markdown",
   "metadata": {},
   "source": [
    "3) Represent a small billingual (English-Sweden) glossary given below as a python dictionary\n",
    "{\"merry\":\"god\", \"christmas\":\"jul\", \"and\":\"och\", \"happy\":\"gott\", \"new\":\"nytt\", \"year\":\"ar\"}\n",
    "and use it to translate your christmas wishes from English to Swedish.\n",
    "<br>That is, write a python function translate() that accepts the billungual dictionary and a list of english words(your christmas wish) and return a list of equivalent Swedish words."
   ]
  },
  {
   "cell_type": "code",
   "execution_count": 2,
   "metadata": {},
   "outputs": [
    {
     "name": "stdout",
     "output_type": "stream",
     "text": [
      "Enter your chritmas wish in english\n",
      "merry christmas and happy new year\n",
      "god jul och gott nytt ar "
     ]
    }
   ],
   "source": [
    "def translate(dic,eng):\n",
    "    swed = []\n",
    "    for i in eng:\n",
    "        swed.append(dic[i])\n",
    "    return swed\n",
    "    \n",
    "dic = {\"merry\":\"god\", \"christmas\":\"jul\", \"and\":\"och\", \"happy\":\"gott\", \"new\":\"nytt\", \"year\":\"ar\"}\n",
    "print('Enter your chritmas wish in english')\n",
    "eng = list(map(str,input().split()))\n",
    "swed = translate(dic,eng)\n",
    "for word in swed:\n",
    "    print(word,end=' ')"
   ]
  },
  {
   "cell_type": "markdown",
   "metadata": {},
   "source": [
    "4) Write a python program to display all the common characters between two strings, \n",
    "<br>Return -1 if there are no matching characters.\n",
    "<br>Ignore blank spaces if there are any. Perform case sensitive string comparision wherever necessary.\n",
    "<br>Sample Input &ensp; Expected Output\n"
   ]
  },
  {
   "cell_type": "code",
   "execution_count": 16,
   "metadata": {},
   "outputs": [
    {
     "name": "stdout",
     "output_type": "stream",
     "text": [
      "Enter sentence 1 : i love java\n",
      "Enter sentence 2 : i love python\n",
      "['e', ' ', 'v', 'l', 'o', 'i']\n"
     ]
    }
   ],
   "source": [
    "def matching_characters(str1,str2):\n",
    "    s1 = set(str1)\n",
    "    s2 = set(str2)\n",
    "    common = [] \n",
    "    for i in s1:\n",
    "        if i in s2:\n",
    "            common.append(i)\n",
    "    if len(common)==0:\n",
    "        return -1\n",
    "    return common\n",
    "        \n",
    "str1 = input('Enter sentence 1 : ')\n",
    "str2 = input('Enter sentence 2 : ')\n",
    "res = matching_characters(str1,str2)\n",
    "print(res)"
   ]
  },
  {
   "cell_type": "markdown",
   "metadata": {},
   "source": [
    "5) Write a python function encrypt_sentence() which accepts a message encrypts it based on rules given below and return the encrypted message.\n",
    "<br>Words at odd postion -> Reverse it\n",
    "<br>Words at even position -> Rearrange the characters so that all constants appear before the vowels and their order should not change.\n",
    "<br>Note\n",
    "1. Assume that the sentence would begin with a word and there will be only a single space between the words.\n",
    "2. Perform case sensitive string opearations wherever necessary.\n",
    "<br>Sample Input:\n",
    "<br> &ensp;   The sun rises in the east.\n",
    "<br>Expected output\n",
    "<br> &ensp;   eht snu sesir ni eht stea."
   ]
  },
  {
   "cell_type": "code",
   "execution_count": 14,
   "metadata": {},
   "outputs": [
    {
     "name": "stdout",
     "output_type": "stream",
     "text": [
      "Enter a sentence : the sun rises in the east\n",
      "eht snu sesir ni eht stea\n"
     ]
    }
   ],
   "source": [
    "def encrpyt_sentence(msg):\n",
    "    odd_words,even_words = [],[]\n",
    "    cnt = 1\n",
    "    vowels = {'a','e','i','o','u'}\n",
    "    for i in msg:\n",
    "        if cnt%2==1:\n",
    "            odd_words.append(i)\n",
    "        else:\n",
    "            even_words.append(i)\n",
    "        cnt+=1\n",
    "    for i in range(len(odd_words)):\n",
    "        odd_words[i] = odd_words[i][::-1]\n",
    "    for i in range(len(even_words)):\n",
    "        vow,cons = '',''\n",
    "        for j in range(len(even_words[i])):\n",
    "            if even_words[i][j] in vowels:\n",
    "                vow += even_words[i][j]\n",
    "            else:\n",
    "                cons += even_words[i][j]\n",
    "        even_words[i] = cons+vow\n",
    "    l = ['' for i in range(len(msg))]\n",
    "    j = 0\n",
    "    for i in range(0,len(msg),2):\n",
    "        l[i] = odd_words[j]\n",
    "        j+=1\n",
    "    j = 0\n",
    "    for i in range(1,len(msg),2):\n",
    "        l[i] = even_words[j]\n",
    "        j+=1\n",
    "    return ' '.join(l)\n",
    "\n",
    "sent = input('Enter a sentence : ')\n",
    "print(encrpyt_sentence(sent.lower().split(' ')))\n",
    "    "
   ]
  },
  {
   "cell_type": "markdown",
   "metadata": {},
   "source": [
    "6) Write a python function, find_correct() which accepts a dictionary and returns a list as per the rules mentioned below.\n",
    "<br>The input dictionary will contain correct spelling of a word as key and the spelling provided by a contestant as the value.\n",
    "<br>The functions should identify the degree of correctness as mentioned below.\n",
    "<br>__CORRECT__ if it is an exact match\n",
    "<br>__ALMOST CORRECT__, if no more than 2 letters are wrong\n",
    "<br>__WRONG__, if more than 2 letters are wrong or if length (correct spelling versus spelling given by contestant) mismatches.\n",
    "<br>and return a list containing the number of _CORRECT_ answers, number of _ALMOST CORRECT_ answers and the number of _WRONG_ answers. \n",
    "<br>Assume that the words contain only uppercase letters and the maximum word length is 10.\n",
    "<br>Sample Input\n"
   ]
  },
  {
   "cell_type": "code",
   "execution_count": 6,
   "metadata": {},
   "outputs": [
    {
     "name": "stdout",
     "output_type": "stream",
     "text": [
      "{'ENCRYPTED': 'ENCRIPTED', 'REARRANGE': 'REARRANGE', 'CORRECTNESS': 'CORRETNESS', 'COMAPRISION': 'CAMPORISOON'}\n",
      "CORRECT : 1\n",
      "ALMOST CORRECT : 1\n",
      "WRONG : 2\n"
     ]
    }
   ],
   "source": [
    "def find_correct(dic):\n",
    "    correct,almost_correct,wrong = 0,0,0\n",
    "    for i in dic:\n",
    "        if len(i)!=len(dic[i]):\n",
    "            wrong+=1\n",
    "            continue\n",
    "        cnt = 0\n",
    "        for j in range(len(dic[i])):\n",
    "            if i[j]!=dic[i][j]:\n",
    "                cnt+=1\n",
    "        if cnt==0:\n",
    "            correct+=1\n",
    "        elif cnt<=2:\n",
    "            almost_correct+=1\n",
    "        else:\n",
    "            wrong+=1\n",
    "    return [correct,almost_correct,wrong]\n",
    "    \n",
    "dic = {\"ENCRYPTED\":\"ENCRIPTED\", \"REARRANGE\":\"REARRANGE\", \"CORRECTNESS\":\"CORRETNESS\", \"COMAPRISION\":\"CAMPORISOON\"}\n",
    "print(dic)\n",
    "lst = find_correct(dic)\n",
    "print('CORRECT :',lst[0])\n",
    "print('ALMOST CORRECT :',lst[1])\n",
    "print('WRONG :',lst[2])"
   ]
  },
  {
   "cell_type": "markdown",
   "metadata": {},
   "source": [
    "7) A teacher is conducting a camp for a group of five children. Based on their performance and behaviour during the camp, the teacher rewards them with chocolates.\n",
    "<br>Write a python program to \n",
    "1. Find the total number of chocolates recieved by all the children put together.\n",
    " - Assume that each child is identified by an id and it is stored in tuple and the number of chocolates given to each child is stored in a list.\n",
    "2. The teacher also rewards a child with few extra chocolates for his/her best conduct during the camp.\n",
    " * If the number of extra chocolates is less than 1, an error message \"Extra chocolates is less than 1\" should be displayed.<br> \n",
    " * If the given child ID is invalid, an error message \"Child Id is invalid\" should be displayed. Otherwise, the extra chocolates provided for the child must be added to his/her existing number of chocolates and display the list containing the total number of chocolates recieved by each child."
   ]
  },
  {
   "cell_type": "code",
   "execution_count": 52,
   "metadata": {},
   "outputs": [
    {
     "name": "stdout",
     "output_type": "stream",
     "text": [
      "teja sai loch\n",
      "5 10 20\n"
     ]
    }
   ],
   "source": [
    "def total_chocolates(ids,chocolates):\n",
    "    total = sum(chocolates)\n",
    "    print('Total number of chocolates recieved by all children is',total)\n",
    "    \n",
    "ids = tuple(map(str,input().split()))\n",
    "chocolates = list(map(int,input().split()))"
   ]
  },
  {
   "cell_type": "markdown",
   "metadata": {},
   "source": [
    "## ---------------------------------------------------------------------------------------------------------------------------------"
   ]
  },
  {
   "cell_type": "markdown",
   "metadata": {},
   "source": [
    "1) Write a python program to find and display the product of 3 +ve interger values based on the rule:\n",
    "- It should display the product of the 3 values except when 1 of the interger value is 7. \n",
    "- In that case 7 should not be included in the product and the values to its left also should not be included.\n",
    "- If there is only 1 value to be considered, display that value itself. if no values can be included in the product display -1."
   ]
  },
  {
   "cell_type": "code",
   "execution_count": 10,
   "metadata": {},
   "outputs": [
    {
     "name": "stdout",
     "output_type": "stream",
     "text": [
      "Enter a,b,c values : \n",
      "1 2 3\n",
      "6\n"
     ]
    }
   ],
   "source": [
    "def products(a,b,c):\n",
    "    if c==7:\n",
    "        return -1\n",
    "    elif b==7:\n",
    "        return c\n",
    "    elif a==7:\n",
    "        return b*c\n",
    "    else:\n",
    "        return a*b*c\n",
    "    \n",
    "print('Enter a,b,c values : ')\n",
    "a,b,c = map(int,input().split())\n",
    "print(products(a,b,c))"
   ]
  },
  {
   "cell_type": "markdown",
   "metadata": {},
   "source": [
    "2) Write a python function to check whether 3 give numbers can form the sides of a triangle.\n",
    "* HINT: 3 numbers can be sides of a triangle if none of the numbers is greater than sum of other two numbers."
   ]
  },
  {
   "cell_type": "code",
   "execution_count": null,
   "metadata": {},
   "outputs": [],
   "source": [
    "def isTriangle(a,b,c):\n",
    "    if a+b>c and b+c>a and a+c>b:\n",
    "        return 'They can form the sides of a triangle'\n",
    "    return 'They cannot form the sides of a triangle'\n",
    "\n",
    "print('Enter the sides of a traingle : ')\n",
    "a,b,c = map(int,input().split())\n",
    "res = isTriangle(a,b,c)\n",
    "print(res)"
   ]
  },
  {
   "cell_type": "markdown",
   "metadata": {},
   "source": [
    "3) You have 'x' no. of 5 rupee coins and 'y' no. of 1 rupee coins. you want to purchase an item for amount z. The shopkeeper wants you to provide exact change You want to pay using min. no. of coins. How many 5 rupee & 1 rupee coins will you use? \n",
    "- if exact change is not possible display -1.  "
   ]
  },
  {
   "cell_type": "code",
   "execution_count": 2,
   "metadata": {},
   "outputs": [
    {
     "name": "stdout",
     "output_type": "stream",
     "text": [
      "Enter no of 5 rupee and 1 rupee coins : \n",
      "8 5\n",
      "Enter the amount of item : 36\n",
      "Number of 5 rupee coins : 7\n",
      "Number of 1 rupee coins : 1\n"
     ]
    }
   ],
   "source": [
    "def coins(x,y,z):\n",
    "    fives,ones = 0,0\n",
    "    if x*5+y*1<z:\n",
    "        print('Not possible')\n",
    "    else:\n",
    "        if z//5<=x:\n",
    "            fives = z//5\n",
    "            if y>=(z-fives*5):\n",
    "                ones = z-fives*5\n",
    "                print(f'Number of 5 rupee coins : {fives}')\n",
    "                print(f'Number of 1 rupee coins : {ones}')\n",
    "            else:\n",
    "                print('Not possible')\n",
    "        else:\n",
    "            fives = x\n",
    "            if y>=(z-fives*5):\n",
    "                ones = z-fives*5\n",
    "                print(f'Number of 5 rupee coins : {fives}')\n",
    "                print(f'Number of 1 rupee coins : {ones}')\n",
    "            else:\n",
    "                print('Not possible')\n",
    "    \n",
    "print('Enter no of 5 rupee and 1 rupee coins : ')\n",
    "x,y = map(int,input().split())\n",
    "z = int(input('Enter the amount of item : '))\n",
    "coins(x,y,z)"
   ]
  },
  {
   "cell_type": "markdown",
   "metadata": {},
   "source": [
    "4) The metro bank provides various types of loans such as car loans, business loans and house loans to its account holders.\n",
    "   Write a python program to implement the following:\n",
    "\n",
    "-\tInitialize the following variables with appropriate input values:\n",
    "\taccount_number, account_balance, salary, loan_type, loan_amount_expected and customer_emi_expected\n",
    "\t\n",
    "-\tThe account number should be of 4 digits and its first digit should be 1.\n",
    "\n",
    "-\tThe customer should have a min. balance of rupees 1 Lakh in the account.\n",
    "\n",
    "-\tIf the above rules are valid, determine the eligible loan amount and the EMI that the bank can provide to \n",
    "\tits customers based on their salary and the loan type they expect to avail.\n",
    "\n",
    "-\tThe bank would provide the loan, only if the loan amount and the no. of EMI's requested by the customer is less \n",
    "\tthan or equal to loan amount and the no. of EMI's decided by the bank res.\n",
    "\n",
    "Display appropriate error messages for all invalid data. If all the business rules are satisfied, then display account number, eligible and requested loan amount and EMI's"
   ]
  },
  {
   "cell_type": "code",
   "execution_count": 49,
   "metadata": {},
   "outputs": [
    {
     "name": "stdout",
     "output_type": "stream",
     "text": [
      "Enter the Account details\n",
      "Account Number:1000\n",
      "Account Bal , Salary:10000 75000\n",
      "Loan Type:Business\n",
      "Loan Expected:500000\n",
      "Expected Emi : 20\n",
      "Eligible for loan\n",
      "Salary\tLoan Type\tEligible Loan Amount\tNo.of Emi Required to pay\n",
      "75000\tBusiness\t6000000\t\t\t60\n"
     ]
    }
   ],
   "source": [
    "def validateLoanRequest(account_number, account_balance, salary, loan_type, loan_amount_expected, emi_expected):\n",
    "    if len(str(account_number))!=4 or str(account_number)[0]!='1':\n",
    "        print(\"Invalid Account Number\")\n",
    "        return\n",
    "    reqEMI = 0;\n",
    "    eligible_loan_amount = 0;\n",
    "    \n",
    "    if(salary <= 25000):\n",
    "        print(\"Not Eligible for loan, too low salary\")\n",
    "        return\n",
    "    elif(salary > 25000 and salary <= 50000):\n",
    "        if loan_amount_expected > 500000:\n",
    "            print(\"Expected amount is greater than 5lacs\")\n",
    "            return\n",
    "        else:\n",
    "            eligible_loan_amount = 500000\n",
    "            reqEMI = 36\n",
    "    elif(salary > 50000 and salary <= 75000):\n",
    "        if loan_amount_expected > 6000000:\n",
    "            print(\"Expected amount is greater than 5lacs\")\n",
    "            return\n",
    "        else:\n",
    "            eligible_loan_amount = 6000000\n",
    "            reqEMI = 60\n",
    "    elif(salary > 75000):\n",
    "        if loan_amount_expected > 7500000:\n",
    "            print(\"Expected amount is greater than 5lacs\")\n",
    "            return\n",
    "        else:\n",
    "            eligible_loan_amount = 7500000\n",
    "            reqEMI = 84\n",
    "\n",
    "    print(\"Eligible for loan\")\n",
    "    print(\"Salary\\tLoan Type\\tEligible Loan Amount\\tNo.of Emi Required to pay\")\n",
    "    print(str(salary) + \"\\t\" + str(loan_type) + \"\\t\" + str(eligible_loan_amount) + \"\\t\\t\\t\" + str(reqEMI))\n",
    "    \n",
    "    \n",
    "print(\"Enter the Account details\")\n",
    "\n",
    "account_number = int(input(\"Account Number:\"))\n",
    "account_balance, salary = map(int,input(\"Account Bal , Salary:\").split())\n",
    "\n",
    "loan_type = input(\"Loan Type:\")\n",
    "loan_amount_expected = int(input(\"Loan Expected:\"))\n",
    "\n",
    "emi_expected = int(input(\"Expected Emi : \"))\n",
    "validateLoanRequest(account_number, account_balance, salary, loan_type, loan_amount_expected, emi_expected)"
   ]
  },
  {
   "cell_type": "markdown",
   "metadata": {},
   "source": [
    "5) Write a python pgm to solve a classic ancient chinese puzzle. \n",
    "- We count 35 heads and 94 legs among the chickens and rabits in a farm. How many rabbits and how many chickens do we have"
   ]
  },
  {
   "cell_type": "code",
   "execution_count": 7,
   "metadata": {},
   "outputs": [
    {
     "name": "stdout",
     "output_type": "stream",
     "text": [
      "Enter number of heads and legs : \n",
      "35 94\n",
      "No of chickens are 11 and no of rabits are 24\n"
     ]
    }
   ],
   "source": [
    "# a = chickens    b = rabits\n",
    "# a + b = x       2*a + 4*b = y\n",
    "# b = y - 2x\n",
    "# a = 3x - y \n",
    "\n",
    "def count_animals(heads,legs):\n",
    "    chickens = 3*heads-legs\n",
    "    rabbits = legs - 2*heads\n",
    "    print(f'No of chickens are {chickens} and no of rabits are {rabbits}')\n",
    "    \n",
    "print('Enter number of heads and legs : ')\n",
    "x,y = map(int,input().split())\n",
    "count_animals(x,y)"
   ]
  },
  {
   "cell_type": "markdown",
   "metadata": {},
   "source": [
    "6) Create A Pattern: using TURTLE"
   ]
  },
  {
   "cell_type": "code",
   "execution_count": 1,
   "metadata": {},
   "outputs": [],
   "source": [
    "import turtle\n",
    "t = turtle.Turtle()\n",
    "r = 10\n",
    "n = 10\n",
    "for i in range(1,n+1,1):\n",
    "    t.circle(r*i)"
   ]
  },
  {
   "cell_type": "markdown",
   "metadata": {},
   "source": [
    "7) Write a python pgm which finds the max. number from num1 to num2 (inclusive) based on the following rules.\n",
    "- Always num1 should be less than num2\n",
    "- Consider each number from num1 to num2 (inclusive). Populate the number into a list, if below conditions satisfies:\n",
    "        - Sum of digits of the number is a multiple of 3\n",
    "        - Number has only 2 or 3 digits\n",
    "        - Number is a multiple of 5\n",
    " Display max. element from the list In case of invalid data or if list is empty, display -1."
   ]
  },
  {
   "cell_type": "code",
   "execution_count": 4,
   "metadata": {},
   "outputs": [
    {
     "name": "stdout",
     "output_type": "stream",
     "text": [
      "Enter num1 : 10\n",
      "Enter num2 : 100\n",
      "Max element is 90\n"
     ]
    }
   ],
   "source": [
    "def maxNumber(num1,num2):\n",
    "    lst = []\n",
    "    for i in range(num1,num2+1):\n",
    "        if i%3==0 and (len(str(i))==2 or len(str(i))==3) and i%5==0:\n",
    "            lst.append(i)\n",
    "    if len(lst)==0:\n",
    "        return -1\n",
    "    return max(lst)\n",
    "\n",
    "num1 = int(input('Enter num1 : '))\n",
    "num2 = int(input('Enter num2 : '))\n",
    "m = maxNumber(num1,num2)\n",
    "print('Max element is',m)"
   ]
  },
  {
   "cell_type": "markdown",
   "metadata": {},
   "source": [
    "8) Write a python program to generate the next 15 leap years starting from given year. Populate the leap years into a list\n",
    "   and display the list. "
   ]
  },
  {
   "cell_type": "code",
   "execution_count": 9,
   "metadata": {},
   "outputs": [
    {
     "name": "stdout",
     "output_type": "stream",
     "text": [
      "Enter starting year : 2023\n",
      "The next 15 leap years are\n",
      " [2024, 2028, 2032, 2036, 2040, 2044, 2048, 2052, 2056, 2060, 2064, 2068, 2072, 2076, 2080]\n"
     ]
    }
   ],
   "source": [
    "def leapYear(yr):\n",
    "    cnt = 0\n",
    "    leap = []\n",
    "    while(cnt<15):\n",
    "        if (yr%4==0 and yr%100!=0) or yr%400==0:\n",
    "            leap.append(yr)\n",
    "            cnt+=1\n",
    "        yr+=1\n",
    "    return leap\n",
    "\n",
    "yr = int(input('Enter starting year : '))\n",
    "leap_yrs = leapYear(yr)\n",
    "print('The next 15 leap years are\\n', leap_yrs)"
   ]
  },
  {
   "cell_type": "markdown",
   "metadata": {},
   "source": [
    "9) ARS gems Store sells different varieties of gems to its customers. \n",
    "\tWrite a Python program to calculate the bill amount to be paid by a customer based on the list of gems and quantity\n",
    "\tpurchased. Any purchase with a total bill amount above Rs. 30000 is entitled for 5% discount. If any gem required by \n",
    "\tthe customer is not available in store, then consider bill amount to be -1\n",
    "\n",
    "- Assume that quantity required by cutomer for any gem will always be greater than 0. \n",
    "- Peform case-sensitive comparision  "
   ]
  },
  {
   "cell_type": "code",
   "execution_count": 12,
   "metadata": {},
   "outputs": [
    {
     "name": "stdout",
     "output_type": "stream",
     "text": [
      "Enter number of items : 3\n",
      "Enter Name of gem & quantity for 3 items\n",
      "Diamond 2\n",
      "Sapphire 5\n",
      "Ruby 3\n",
      "Total amount :  17300\n"
     ]
    }
   ],
   "source": [
    "def Bill(require, available):\n",
    "    amount = 0\n",
    "    for gem in require:\n",
    "        if gem in available and require[gem] <= available[gem][1]:\n",
    "            amount += require[gem] * available[gem][0]\n",
    "        else:\n",
    "            return -1\n",
    "    return amount\n",
    "\n",
    "available = {\"Ruby\" : [100,5], \"Emrald\" : [200,6], \"Diamond\" : [1000,3], \"Sapphire\" : [3000,10]}\n",
    "n = int(input(\"Enter number of items : \"))\n",
    "require = {}\n",
    "print(\"Enter Name of gem & quantity for\",n,\"items\")\n",
    "for i in range(n):\n",
    "    l = input().split()\n",
    "    require[l[0]] = int(l[1])\n",
    "    \n",
    "res = Bill(require, available)\n",
    "print(\"Total amount : \",res) if res!=-1 else print(\"One or more items not in stock\")"
   ]
  },
  {
   "cell_type": "markdown",
   "metadata": {},
   "source": [
    "10) Write a python function, create_largest_number(), which  accepts a list of numbers and return the largest number possible\n",
    "    by concatenating list of numbers. \n",
    "* All no.'s are two digit numbers"
   ]
  },
  {
   "cell_type": "code",
   "execution_count": 16,
   "metadata": {},
   "outputs": [
    {
     "name": "stdout",
     "output_type": "stream",
     "text": [
      "Enter a list of 2 digit numbers : \n",
      "23 28 45 93 52\n",
      "The largest possible number is 9352452823\n"
     ]
    }
   ],
   "source": [
    "def create_largest_number(nums):\n",
    "    nums.sort(reverse=True)\n",
    "    nums = [str(i) for i in nums]\n",
    "    return ''.join(nums)\n",
    "\n",
    "print('Enter a list of 2 digit numbers : ')\n",
    "nums = list(map(int,input().split()))\n",
    "large = create_largest_number(nums)\n",
    "print('The largest possible number is',large)"
   ]
  },
  {
   "cell_type": "markdown",
   "metadata": {},
   "source": [
    "## Practise Questions"
   ]
  },
  {
   "cell_type": "markdown",
   "metadata": {},
   "source": [
    "11) Program for Maximum of 3 Numbers"
   ]
  },
  {
   "cell_type": "code",
   "execution_count": 18,
   "metadata": {},
   "outputs": [
    {
     "name": "stdout",
     "output_type": "stream",
     "text": [
      "Enter 3 numbers : \n",
      "1 2 3\n",
      "maximum of 1,2,3 is 3\n"
     ]
    }
   ],
   "source": [
    "def max(a,b,c):\n",
    "    if a>b and a>c:\n",
    "        return a\n",
    "    elif b>a and b>c:\n",
    "        return b\n",
    "    else:\n",
    "        return c\n",
    "\n",
    "print('Enter 3 numbers : ')\n",
    "a,b,c = map(int,input().split())\n",
    "max = max(a,b,c)\n",
    "print(f'maximum of {a},{b},{c} is {max}')"
   ]
  },
  {
   "cell_type": "markdown",
   "metadata": {},
   "source": [
    "12) Write a program for area of a circle"
   ]
  },
  {
   "cell_type": "code",
   "execution_count": 20,
   "metadata": {},
   "outputs": [
    {
     "name": "stdout",
     "output_type": "stream",
     "text": [
      "Enter radius of circle : 5\n",
      "The area of circle with radius 5 is 78.53981633974483\n"
     ]
    }
   ],
   "source": [
    "from math import pi\n",
    "def areaCircle(r):\n",
    "    return pi*r*r\n",
    "\n",
    "r = int(input('Enter radius of circle : '))\n",
    "area = areaCircle(r)\n",
    "print(f'The area of circle with radius {r} is {area}')"
   ]
  },
  {
   "cell_type": "markdown",
   "metadata": {},
   "source": [
    "13) Write a program for simple interest"
   ]
  },
  {
   "cell_type": "code",
   "execution_count": 21,
   "metadata": {},
   "outputs": [
    {
     "name": "stdout",
     "output_type": "stream",
     "text": [
      "Enter Principal amount, Time, Rate of Interest : \n",
      "10000 2 2\n",
      "The simple interest is 400.0\n"
     ]
    }
   ],
   "source": [
    "def SI(p,t,r):\n",
    "    return (p*t*r)/100\n",
    "\n",
    "print('Enter Principal amount, Time, Rate of Interest : ')\n",
    "p,t,r = map(int,input().split())\n",
    "si = SI(p,t,r)\n",
    "print('The simple interest is',si)"
   ]
  },
  {
   "cell_type": "markdown",
   "metadata": {},
   "source": [
    "14) Write a program for volume of a sphere"
   ]
  },
  {
   "cell_type": "code",
   "execution_count": 22,
   "metadata": {},
   "outputs": [
    {
     "name": "stdout",
     "output_type": "stream",
     "text": [
      "Enter radius of sphere : 5\n",
      "Volume of sphere is 294.5243112740431\n"
     ]
    }
   ],
   "source": [
    "from math import pi\n",
    "def volume(r):\n",
    "    return 3/4*pi*r*r*r\n",
    "\n",
    "r = int(input('Enter radius of sphere : '))\n",
    "vol = volume(r)\n",
    "print('Volume of sphere is',vol)"
   ]
  },
  {
   "cell_type": "markdown",
   "metadata": {},
   "source": [
    "15) Write a program to find factorial of a number"
   ]
  },
  {
   "cell_type": "code",
   "execution_count": 24,
   "metadata": {},
   "outputs": [
    {
     "name": "stdout",
     "output_type": "stream",
     "text": [
      "Enter a number : 5\n",
      "5! = 120\n"
     ]
    }
   ],
   "source": [
    "def factorial(num):\n",
    "    if num==0 or num==1:\n",
    "        return 1\n",
    "    f = 1\n",
    "    for i in range(num,0,-1):\n",
    "        f *= i\n",
    "    return f\n",
    "\n",
    "num = int(input('Enter a number : '))\n",
    "print(f'{num}! = {factorial(num)}')"
   ]
  },
  {
   "cell_type": "markdown",
   "metadata": {},
   "source": [
    "16) Write python program to check whether given number is Armstrong or not"
   ]
  },
  {
   "cell_type": "code",
   "execution_count": 27,
   "metadata": {},
   "outputs": [
    {
     "name": "stdout",
     "output_type": "stream",
     "text": [
      "Enter a number : 153\n",
      "153 is an armstrong number\n"
     ]
    }
   ],
   "source": [
    "def checkArmstrong(num):\n",
    "    n = num\n",
    "    s = 0\n",
    "    while(n>0):\n",
    "        d = n%10\n",
    "        s += d**len(str(num))\n",
    "        n = n//10\n",
    "    if s==num:\n",
    "        return True\n",
    "    return False\n",
    "\n",
    "num = int(input('Enter a number : '))\n",
    "if checkArmstrong(num):\n",
    "    print(num,'is an armstrong number')\n",
    "else:\n",
    "    print(num,'is not an armstrong number')"
   ]
  },
  {
   "cell_type": "markdown",
   "metadata": {},
   "source": [
    "17) Write a python program to check whether given number is prime number or not "
   ]
  },
  {
   "cell_type": "code",
   "execution_count": 32,
   "metadata": {},
   "outputs": [
    {
     "name": "stdout",
     "output_type": "stream",
     "text": [
      "Enter a number : 4\n",
      "4 is not a prime number\n"
     ]
    }
   ],
   "source": [
    "def isPrime(num):\n",
    "    if num<2:\n",
    "        return False\n",
    "    for i in range(2,num):\n",
    "        if num%i==0:\n",
    "            return False\n",
    "    return True\n",
    "\n",
    "num = int(input('Enter a number : '))\n",
    "if isPrime(num):\n",
    "    print(num,'is a prime number')\n",
    "else:\n",
    "    print(num,'is not a prime number')"
   ]
  },
  {
   "cell_type": "markdown",
   "metadata": {},
   "source": [
    "18) Write a python program to check whether given number is perfect or not "
   ]
  },
  {
   "cell_type": "code",
   "execution_count": 34,
   "metadata": {},
   "outputs": [
    {
     "name": "stdout",
     "output_type": "stream",
     "text": [
      "Enter a number : 7\n",
      "7 is not perfect number\n"
     ]
    }
   ],
   "source": [
    "def isPerfect(num):\n",
    "    n = num\n",
    "    s = 0\n",
    "    for i in range(1,n):\n",
    "        if n%i==0:\n",
    "            s+=i\n",
    "    if s==num:\n",
    "        return True\n",
    "    return False\n",
    "\n",
    "num = int(input('Enter a number : '))\n",
    "if isPerfect(num):\n",
    "    print(num,'is perfect number')\n",
    "else:\n",
    "    print(num,'is not perfect number')"
   ]
  },
  {
   "cell_type": "markdown",
   "metadata": {},
   "source": [
    "19) Write a python program for sum of the digits of a given number"
   ]
  },
  {
   "cell_type": "code",
   "execution_count": 36,
   "metadata": {},
   "outputs": [
    {
     "name": "stdout",
     "output_type": "stream",
     "text": [
      "Enter a number : 123 \n",
      "The sum of digits of 123 is 6\n"
     ]
    }
   ],
   "source": [
    "def sumDigits(num):\n",
    "    s = 0\n",
    "    while(num>0):\n",
    "        r = num%10\n",
    "        s += r\n",
    "        num = num//10\n",
    "    return s\n",
    "\n",
    "num = int(input('Enter a number : '))\n",
    "s = sumDigits(num)\n",
    "print(f'The sum of digits of {num} is {s}')"
   ]
  },
  {
   "cell_type": "markdown",
   "metadata": {},
   "source": [
    "## Lists"
   ]
  },
  {
   "cell_type": "markdown",
   "metadata": {},
   "source": [
    "20) Write a program which will find all such numbers which are divisible by 7 but are not a multiple of 5, between 10 and 100 (both included). The numbers obtained should be printed in a comma-separated sequence on a single line."
   ]
  },
  {
   "cell_type": "code",
   "execution_count": 40,
   "metadata": {},
   "outputs": [
    {
     "name": "stdout",
     "output_type": "stream",
     "text": [
      "14, 21, 28, 42, 49, 56, 63, 77, 84, 91, 98, "
     ]
    }
   ],
   "source": [
    "def numbers():\n",
    "    for i in range(10,101):\n",
    "        if i%7==0 and i%5!=0:\n",
    "            print(str(i)+',',end=' ')\n",
    "numbers()"
   ]
  },
  {
   "cell_type": "markdown",
   "metadata": {},
   "source": [
    "21) Write a Python program to get the 1st and 2nd Smallest Numbers from a List"
   ]
  },
  {
   "cell_type": "code",
   "execution_count": 42,
   "metadata": {},
   "outputs": [
    {
     "name": "stdout",
     "output_type": "stream",
     "text": [
      "[67, 39, 30, 70, 32, 40, 87, 21, 34, 94]\n",
      "The first smallest is 21\n",
      "The second smallest is 30\n"
     ]
    }
   ],
   "source": [
    "import random\n",
    "def smallest(nums):\n",
    "    nums.sort()\n",
    "    print('The first smallest is',nums[0])\n",
    "    print('The second smallest is',nums[1])\n",
    "\n",
    "nums = random.sample(range(10,100),10)\n",
    "print(nums)\n",
    "smallest(nums)"
   ]
  },
  {
   "cell_type": "markdown",
   "metadata": {},
   "source": [
    "22) Write a Python program to remove duplicates from a List "
   ]
  },
  {
   "cell_type": "code",
   "execution_count": 43,
   "metadata": {},
   "outputs": [
    {
     "name": "stdout",
     "output_type": "stream",
     "text": [
      "Enter a list of values : \n",
      "10 20 20 30 30 40 40 50 50\n",
      "After removal of duplicates\n",
      "[10, 20, 30, 40, 50]\n"
     ]
    }
   ],
   "source": [
    "def removeDuplicates(lst):\n",
    "    new_lst = []\n",
    "    for i in lst:\n",
    "        if i not in new_lst:\n",
    "            new_lst.append(i)\n",
    "    return new_lst\n",
    "\n",
    "print('Enter a list of values : ')\n",
    "lst = list(map(int,input().split()))\n",
    "new_lst = removeDuplicates(lst)\n",
    "print('After removal of duplicates')\n",
    "print(new_lst)"
   ]
  },
  {
   "cell_type": "markdown",
   "metadata": {},
   "source": [
    "23) Given a number, the task is to check whether the given number is a spy number or not using Python.\n",
    "\n",
    "- Spy number:\n",
    "If the sum of a number’s digits equals the product of its digits, it’s called a Spy number. 1124,123,1412,132 ..."
   ]
  },
  {
   "cell_type": "code",
   "execution_count": 46,
   "metadata": {},
   "outputs": [
    {
     "name": "stdout",
     "output_type": "stream",
     "text": [
      "Enter a number : 1124\n",
      "1124 is a Spy number\n"
     ]
    }
   ],
   "source": [
    "def isSpy(num):\n",
    "    s = 0\n",
    "    p = 1\n",
    "    while(num>0):\n",
    "        r = num%10\n",
    "        s += r\n",
    "        p *= r\n",
    "        num = num//10\n",
    "    return s==p\n",
    "\n",
    "num = int(input('Enter a number : '))\n",
    "if isSpy(num):\n",
    "    print(num,'is a Spy number')\n",
    "else:\n",
    "    print(num,'is not a spy number')"
   ]
  },
  {
   "cell_type": "markdown",
   "metadata": {},
   "source": [
    "24) Write a python program to display the mean of a list"
   ]
  },
  {
   "cell_type": "code",
   "execution_count": 48,
   "metadata": {},
   "outputs": [
    {
     "name": "stdout",
     "output_type": "stream",
     "text": [
      "Enter a list of values\n",
      "1 2 3 4 5\n",
      "Mean of list is 3.0\n"
     ]
    }
   ],
   "source": [
    "def mean(lst):\n",
    "    s = 0\n",
    "    for i in lst:\n",
    "        s += i\n",
    "    n = len(lst)\n",
    "    print('Mean of list is',s/n)\n",
    "    \n",
    "print('Enter a list of values')\n",
    "lst = list(map(int,input().split()))\n",
    "mean(lst)"
   ]
  },
  {
   "cell_type": "markdown",
   "metadata": {},
   "source": [
    "25) Write a python program to display median of the list"
   ]
  },
  {
   "cell_type": "code",
   "execution_count": 50,
   "metadata": {},
   "outputs": [
    {
     "name": "stdout",
     "output_type": "stream",
     "text": [
      "Enter a list of values\n",
      "1 2 3 4 5\n",
      "Median of list is 3\n"
     ]
    }
   ],
   "source": [
    "def median(lst):\n",
    "    lst.sort()\n",
    "    n = len(lst)\n",
    "    if n%2==0:\n",
    "        med = (lst[n//2]+lst[n//2-1])/2\n",
    "    else:\n",
    "        med = lst[n//2]\n",
    "    print('Median of list is',med)\n",
    "    \n",
    "print('Enter a list of values')\n",
    "lst = list(map(int,input().split()))\n",
    "median(lst)"
   ]
  }
 ],
 "metadata": {
  "kernelspec": {
   "display_name": "Python 3 (ipykernel)",
   "language": "python",
   "name": "python3"
  },
  "language_info": {
   "codemirror_mode": {
    "name": "ipython",
    "version": 3
   },
   "file_extension": ".py",
   "mimetype": "text/x-python",
   "name": "python",
   "nbconvert_exporter": "python",
   "pygments_lexer": "ipython3",
   "version": "3.9.13"
  }
 },
 "nbformat": 4,
 "nbformat_minor": 2
}
