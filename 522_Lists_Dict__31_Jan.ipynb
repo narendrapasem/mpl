{
 "cells": [
  {
   "cell_type": "markdown",
   "metadata": {},
   "source": [
    "1) Write a python program that finds most frequent element in a given list of numbers (mode)"
   ]
  },
  {
   "cell_type": "code",
   "execution_count": 1,
   "metadata": {},
   "outputs": [
    {
     "name": "stdout",
     "output_type": "stream",
     "text": [
      "{8: 0, 7: 3, 3: 1, 4: 0, 9: 1, 1: 0, 6: 1, 2: 0, 5: 0}\n",
      "7   3\n"
     ]
    }
   ],
   "source": [
    "#random numbers of 30 to 40 from 10 to 100\n",
    "import random as rand\n",
    "import numpy as np\n",
    "import pandas as pd\n",
    "import statistics\n",
    "\n",
    "list1 = np.random.randint(1,10,size=15)\n",
    "\n",
    "\n",
    "d = {}\n",
    "for i in list1:\n",
    "    if i not in d:\n",
    "        d[i] = 0\n",
    "    else:\n",
    "        d[i] += 1\n",
    "print(d)\n",
    "\n",
    "value = max(zip(d.values(), d.keys()))[1]\n",
    "print(value, \" \" ,d[value])"
   ]
  },
  {
   "cell_type": "markdown",
   "metadata": {},
   "source": [
    "2) Care hospital wamts to know the medical speciality visited by the maximum number of patients. Assume that the patient id of the patient along with the medical speciality visited by the patient is stored in a dictionary as follows {\"P\":\"Pediatrics\",\"O\":\"Orthopedics\",\"E\":\"ENT\"}\n"
   ]
  },
  {
   "cell_type": "markdown",
   "metadata": {},
   "source": [
    "Write a function to find the medical specialtoy visited by the maximum number of patients and return the name of the speciality"
   ]
  },
  {
   "cell_type": "markdown",
   "metadata": {},
   "source": [
    "<br>__Note:__ Assume that there is always only one medical speciality wchich is visited by the maximum number of patients\n",
    "<br> Perfrom case sensitive string comparisoin wherever necessary\n",
    "<br> Sample Input : Expected Output:\n",
    "[101,P,102,O,302,P,305,P]\n",
    "<br>  [101,O,102,E,302,P,305,P,401,E]"
   ]
  },
  {
   "cell_type": "code",
   "execution_count": 24,
   "metadata": {},
   "outputs": [
    {
     "name": "stdout",
     "output_type": "stream",
     "text": [
      "E\n",
      "The speciality is:  ENT\n"
     ]
    }
   ],
   "source": [
    "medical_records = {\"P\":\"Pediatrics\",\"O\":\"Orthopedics\",\"E\":\"ENT\"}\n",
    "patients = [101,'O',102,'E',302,'P',305,'P',401,'E',403,'E']\n",
    "\n",
    "d = {}\n",
    "for i in range(1,len(patients),2):\n",
    "    if patients[i] not in d:\n",
    "        d[patients[i]] = 0\n",
    "    else:\n",
    "        d[patients[i]] += 1\n",
    "m = max(list(d.values()))\n",
    "id = {id for id in d if d[id] == m}\n",
    "s = \" \".join(id)\n",
    "print(s)\n",
    "print(\"The speciality is: \" , medical_records[s])"
   ]
  },
  {
   "cell_type": "markdown",
   "metadata": {},
   "source": [
    "<br>3) Write python fn sms_encoding() which accepts a sentence and cnverts it into an abbreviated sentence to be sent as SMS and returns the abbreviated sentence\n",
    "\n",
    "<br> Rules are as follows:\n",
    "<br> a. Spaces are to be returned as is\n",
    "b.Eah word should be encoded seperately\n",
    "\n",
    "If a word has only vowels then retain the word as is\n",
    "If a word has a consonant (at least1) then retain only those consonants\n",
    "\n",
    "__Note:__ Assume that the sentence would begin with a word and there will be only a single space between the words.\n",
    "\n",
    "        Sample Input: Exp o/p:\n",
    "        I love Python    I lv Pythn\n",
    "        I will not repeat mistakes  I will nt rpt mstks"
   ]
  },
  {
   "cell_type": "code",
   "execution_count": 31,
   "metadata": {},
   "outputs": [
    {
     "name": "stdout",
     "output_type": "stream",
     "text": [
      "Enter the input to perfrom operationsI love apple\n",
      "I lv ppl \n"
     ]
    }
   ],
   "source": [
    "s = input(\"Enter the input to perfrom operations\")\n",
    "vowels = [\"a\",\"e\",\"i\",\"o\",\"u\",\"A\",\"E\",\"I\",\"O\",\"U\"]\n",
    "\n",
    "vowel , consonants = \"\",\"\"\n",
    "ans = \"\"\n",
    "list1 = s.split(\" \")\n",
    "for i in list1:\n",
    "    for j in i:\n",
    "        if vowels.count(j) >= 1:\n",
    "            vowel += j\n",
    "        else:\n",
    "            consonants += j\n",
    "        \n",
    "    if len(consonants) == 0:\n",
    "            ans += vowel\n",
    "    else:\n",
    "            ans += consonants\n",
    "    \n",
    "    vowel , consonants = \"\",\"\"\n",
    "    ans += \" \"\n",
    "print(ans)"
   ]
  },
  {
   "cell_type": "code",
   "execution_count": 5,
   "metadata": {},
   "outputs": [
    {
     "name": "stdout",
     "output_type": "stream",
     "text": [
      "[]\n"
     ]
    }
   ],
   "source": [
    "list = [1,3,4,5,6,7,8]\n",
    "x = [x for x in list if x == 45]\n",
    "print(x)"
   ]
  },
  {
   "cell_type": "markdown",
   "metadata": {},
   "source": [
    "4) Write a python program that accepts a text and displays a string which contains the word with the largest frequency in the text and the frequency itself seperated by a space\n",
    "<br> __Rules__:\n",
    "        <br> The word should have the largest frequency\n",
    "        <br> In case multiple words have the same frequency, then choose the word that has the maximum length\n",
    "\n",
    "<br><br> __Assumptions__:\n",
    "        <br> The text has no special characters other than space\n",
    "        <br> The text would begin with a word and there wll be only a single space between the words.\n",
    "<br> Input and Output:\n",
    "<br> \"Work like you do not need money love like you have never been hurt\"\n",
    "   like 2\n",
    "   \"Courage is not the absence of fear but rather than the judgement that something else is more important than fear\""
   ]
  },
  {
   "cell_type": "code",
   "execution_count": 8,
   "metadata": {},
   "outputs": [
    {
     "name": "stdout",
     "output_type": "stream",
     "text": [
      "Enter the input to perform checksWork like you do not need money love like you have never been hurt like\n",
      "Work like you do not need money love like you have never been hurt like\n",
      "{'like'}\n",
      "like   2\n"
     ]
    }
   ],
   "source": [
    "s = input(\"Enter the input to perform checks\")\n",
    "string = ''.join(i for i in s if i.isalnum() or i == \" \")\n",
    "\n",
    "print(string)\n",
    "list1 = string.split(\" \")\n",
    "d = {}\n",
    "for i in list1:\n",
    "    if i not in d:\n",
    "        d[i] = 0\n",
    "    else:\n",
    "        d[i] += 1\n",
    "m = max(list(d.values()))\n",
    "listing = {id for id in d if d[id] == m}\n",
    "print(listing)\n",
    "if len(listing) == 1:\n",
    "    string3 = \" \".join(listing)\n",
    "else:\n",
    "    max(list(string3))\n",
    "\n",
    "print(string3, \" \", m)\n",
    "\n"
   ]
  },
  {
   "cell_type": "markdown",
   "metadata": {},
   "source": [
    "5) Write a python function, find_pairs_of_numbers() which accepts a list of positive integers with no repetation and return the count of pairs of numbers in the list that adds up to n. The function  should return 0, if no such pairs are found in the list. \n",
    "\n",
    "Sample Input ---> Sample Output:\n",
    "   <br>[1, 2, 7, 4, 5, 6, 0, 3] , 6 ----> 3\n",
    "   <br> [3, 4, 1, 8, 5, 9, 0, 6] , 9 ---> 4"
   ]
  },
  {
   "cell_type": "code",
   "execution_count": 25,
   "metadata": {},
   "outputs": [
    {
     "name": "stdout",
     "output_type": "stream",
     "text": [
      "[ 2 11  5  8 12 12  8  3  2 10 11  7  7  6  9  4  9  2  4  8]\n",
      "[5, 6]\n",
      "1\n"
     ]
    }
   ],
   "source": [
    "import numpy as np\n",
    "import random as rand\n",
    "\n",
    "def find_pairs_of_numbers(list1,target):\n",
    "    list1.sort()\n",
    "    count = 0\n",
    "    l = []\n",
    "    for i in range(len(list1)-1):\n",
    "        if list1[i] + list1[i+1] == target:\n",
    "            count += 1\n",
    "            l.append(list1[i])\n",
    "            l.append(list1[i+1])\n",
    "            #l.append([])\n",
    "    if count >= 1:\n",
    "        print(l)\n",
    "        return count\n",
    "    else:\n",
    "        return 0\n",
    "rand.seed(10)\n",
    "list1 = np.random.randint(1,15,size=20)\n",
    "print(list1)\n",
    "target = 11\n",
    "ans = find_pairs_of_numbers(list1, target)\n",
    "print(ans)"
   ]
  },
  {
   "cell_type": "markdown",
   "metadata": {},
   "source": [
    "##### Random package notes:\n",
    "seed - get same output always\n",
    "functions like seed(), random(), randint(1,10), randrange(1,10,2)"
   ]
  },
  {
   "cell_type": "code",
   "execution_count": 8,
   "metadata": {},
   "outputs": [
    {
     "name": "stdout",
     "output_type": "stream",
     "text": [
      "[4 1 8 3 7 4 8 8 5 8]\n",
      "[5 1]\n",
      "[3 1]\n"
     ]
    }
   ],
   "source": [
    "import numpy as np\n",
    "print(np.random.randint(1,10,size=10))\n",
    "print(np.random.choice([1,3,5], 2))\n",
    "print(np.random.choice([1,3,5], 2, False))"
   ]
  },
  {
   "cell_type": "code",
   "execution_count": 9,
   "metadata": {},
   "outputs": [],
   "source": [
    "np.random.seed(10)\n"
   ]
  },
  {
   "cell_type": "markdown",
   "metadata": {},
   "source": [
    "### List Comprehension programs:\n",
    "1) Convert the following logic of list normalization into list comprehension\n",
    "    <br>nums_list= [6,4,2,8,9,10,3,2,1,3]\n",
    "    <br>total = float(sum(nums_list))\n",
    "    <br>for i in range(len(nums_list)):\n",
    "        <br>           nums_list[i] = nums_list[i]/float(total)\n",
    " \n",
    "2) Convert the following logic of zero-matrix creation into list comprehension:\n",
    "        <br>zeromatrix = [ ]\n",
    "         <br>for i in range(10):\n",
    "         <br>matrix.append([0]*10)\n",
    "     \n",
    "3) By using list comprehension, write a program for the following:\n",
    "        <br>print the list after removing numbers which are divisible by 3 and 5 in [5,10,40,7,53,31,12,10]\n",
    "        <br> print the list after removing the 0th, 2nd, 4th , 6th numbers in [5,10,40,7,53,31,12,101]\n",
    "        <br> generate a 3 * 4 2D-list whose elements are initialized to 0\n",
    "        <br> generate a 2* 3* 5 3D-list whose each elements are initialized to 0"
   ]
  },
  {
   "cell_type": "markdown",
   "metadata": {},
   "source": [
    "1) Convert the following logic of list normalization into list comprehension\n",
    "nums_list= [6,4,2,8,9,10,3,2,1,3]\n",
    "total = float(sum(nums_list))\n",
    "for i in range(len(nums_list)):\n",
    "nums_list[i] = nums_list[i]/float(total)"
   ]
  },
  {
   "cell_type": "code",
   "execution_count": 39,
   "metadata": {},
   "outputs": [
    {
     "name": "stdout",
     "output_type": "stream",
     "text": [
      "[0.1509433962264151, 0.1509433962264151, 0.1509433962264151, 0.03773584905660377, 0.1320754716981132, 0.07547169811320754, 0.07547169811320754, 0.018867924528301886, 0.1320754716981132, 0.07547169811320754]\n"
     ]
    }
   ],
   "source": [
    "\n",
    "#1 Program of list comprehension:\n",
    "list1 = np.random.randint(1,10,size=10)\n",
    "total = float(sum(list1))\n",
    "ans = [list1[i]/float(total) for i in range(len(list1))]\n",
    "print(ans)"
   ]
  },
  {
   "cell_type": "markdown",
   "metadata": {},
   "source": [
    "2) Convert the following logic of zero-matrix creation into list comprehension:\n",
    "zeromatrix = []\n",
    "for i in range(10):\n",
    "matrix.append([0]*10)"
   ]
  },
  {
   "cell_type": "code",
   "execution_count": 54,
   "metadata": {},
   "outputs": [
    {
     "name": "stdout",
     "output_type": "stream",
     "text": [
      "[[0, 0, 0, 0, 0, 0, 0, 0, 0, 0], [0, 0, 0, 0, 0, 0, 0, 0, 0, 0], [0, 0, 0, 0, 0, 0, 0, 0, 0, 0], [0, 0, 0, 0, 0, 0, 0, 0, 0, 0], [0, 0, 0, 0, 0, 0, 0, 0, 0, 0], [0, 0, 0, 0, 0, 0, 0, 0, 0, 0], [0, 0, 0, 0, 0, 0, 0, 0, 0, 0], [0, 0, 0, 0, 0, 0, 0, 0, 0, 0], [0, 0, 0, 0, 0, 0, 0, 0, 0, 0], [0, 0, 0, 0, 0, 0, 0, 0, 0, 0]]\n"
     ]
    }
   ],
   "source": [
    "list1 = []\n",
    "list1 = [[0 for j in range(10)] for i in range(10)] \n",
    "print(list1)"
   ]
  },
  {
   "cell_type": "markdown",
   "metadata": {},
   "source": [
    "3) By using list comprehension, write a program for the following:\n",
    "print the list after removing numbers which are divisible by 3 and 5 in [5,10,40,7,53,31,12,10]\n",
    "print the list after removing the 0th, 2nd, 4th , 6th numbers in [5,10,40,7,53,31,12,101]\n",
    "generate a 3 * 4 2D-list whose elements are initialized to 0\n",
    "generate a 2* 3* 5 3D-list whose each elements are initialized to 0"
   ]
  },
  {
   "cell_type": "code",
   "execution_count": 62,
   "metadata": {},
   "outputs": [
    {
     "name": "stdout",
     "output_type": "stream",
     "text": [
      "[65 45  5 11 87 98 19 14 42 10]\n",
      "[11, 87, 98, 19, 14, 42]\n",
      "[45, 11, 98, 14, 42, 10]\n",
      "[[0, 0, 0], [0, 0, 0], [0, 0, 0], [0, 0, 0]]\n",
      "[[0, 0, 0], [0, 0, 0], [0, 0, 0], [0, 0, 0]]\n"
     ]
    }
   ],
   "source": [
    "list1 = np.random.randint(5,100,size=10)\n",
    "print(list1)\n",
    "x  = [i for i in list1 if i%5!=0 and i&3!=0]\n",
    "print(x)\n",
    "\n",
    "lsit1 = [1,2,3,4,5,6,7,8,9,10]\n",
    "x = [list1[i] for i in range(len(list1)) if i not in (0,2,4,6)]\n",
    "print(x)\n",
    "\n",
    "x = [[0 for j in range(3)] for i in range(4)]\n",
    "print(x)\n",
    "\n",
    "\n",
    "x = [[0 for j in range(3)] for i in range(4)]\n",
    "print(x)"
   ]
  },
  {
   "cell_type": "markdown",
   "metadata": {},
   "source": [
    "### Dictionary programs\n",
    "\n",
    "1) Do the following:\n",
    "    <br> .Create a following with a day of week as key and number of letters as value\n",
    "    <br> .Loop through the created dictioanry, and print the day and number of letters for each entry on a seperate line\n",
    "    <br> .Loop through the created dictionary, and print the day and number of letters for each entry on a seperate line, but only for days with more than 6 letters\n",
    "\n",
    "\n",
    "2) Write the python code that prints the total amount of animals contained in this strange zoo given the following dictionary that stores the quantities of each type of animals\n",
    "    <br> animals = {\"dog\" : 9, \"cat\":4, \"frog\":2, \"bear\":4, \"whale\":10}\n",
    "\n",
    "3) Define a function which can generate a dictionary where the keys are numbers between 1 and 20(both included) and the values are sqaure of keys. The function should just print the keys only.\n"
   ]
  },
  {
   "cell_type": "code",
   "execution_count": 71,
   "metadata": {},
   "outputs": [
    {
     "name": "stdout",
     "output_type": "stream",
     "text": [
      "{'Sunday': 6, 'Monday': 6, 'Tuesday': 7, 'Wednesday': 9, 'Thursday': 8, 'Friday': 6, 'Saturday': 8}\n",
      "Sunday   6\n",
      "Monday   6\n",
      "Tuesday   7\n",
      "Wednesday   9\n",
      "Thursday   8\n",
      "Friday   6\n",
      "Saturday   8\n",
      "\n",
      "Tuesday   7\n",
      "Wednesday   9\n",
      "Thursday   8\n",
      "Saturday   8\n"
     ]
    }
   ],
   "source": [
    "days = ['Sunday','Monday', 'Tuesday', 'Wednesday', 'Thursday','Friday', 'Saturday']\n",
    "\n",
    "d= {}\n",
    "for i in days:\n",
    "    if i not in d:\n",
    "        d[i] = len(i)\n",
    "    else:\n",
    "        d[i] = len(i)\n",
    "print(d)\n",
    "\n",
    "\n",
    "for i in d.keys():\n",
    "    print(i, ' ',d[i])\n",
    "\n",
    "print()\n",
    "for i in d.keys():\n",
    "    if d[i] > 6:\n",
    "        print(i, ' ',d[i])\n",
    "    "
   ]
  },
  {
   "cell_type": "code",
   "execution_count": 64,
   "metadata": {},
   "outputs": [
    {
     "name": "stdout",
     "output_type": "stream",
     "text": [
      "The sum is 29\n"
     ]
    }
   ],
   "source": [
    "animals = {\"dog\" : 9, \"cat\":4, \"frog\":2, \"bear\":4, \"whale\":10}\n",
    "print('The sum is',sum(list(animals.values())))"
   ]
  },
  {
   "cell_type": "code",
   "execution_count": 75,
   "metadata": {},
   "outputs": [
    {
     "name": "stdout",
     "output_type": "stream",
     "text": [
      "dict_keys([1, 2, 3, 4, 5, 6, 7, 8, 9, 10, 11, 12, 13, 14, 15, 16, 17, 18, 19, 20])\n"
     ]
    }
   ],
   "source": [
    "def generate():\n",
    "    d=dict()\n",
    "    for x in range(1,21):\n",
    "        d[x]=x**2\n",
    "    \n",
    "    print(d.keys())\n",
    "generate()"
   ]
  },
  {
   "cell_type": "code",
   "execution_count": null,
   "metadata": {},
   "outputs": [],
   "source": []
  }
 ],
 "metadata": {
  "kernelspec": {
   "display_name": "Python 3 (ipykernel)",
   "language": "python",
   "name": "python3"
  },
  "language_info": {
   "codemirror_mode": {
    "name": "ipython",
    "version": 3
   },
   "file_extension": ".py",
   "mimetype": "text/x-python",
   "name": "python",
   "nbconvert_exporter": "python",
   "pygments_lexer": "ipython3",
   "version": "3.9.13"
  }
 },
 "nbformat": 4,
 "nbformat_minor": 4
}
