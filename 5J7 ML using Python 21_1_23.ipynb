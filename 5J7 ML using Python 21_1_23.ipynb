{
 "cells": [
  {
   "cell_type": "markdown",
   "metadata": {},
   "source": [
    "# 21-1-23 ML LAB J7"
   ]
  },
  {
   "cell_type": "markdown",
   "metadata": {},
   "source": [
    "1) Write a python program to find and display the product of 3 +ve interger values based on the rule:\n",
    "It should display the product of the 3 values except when 1 of the interger value is 7. \n",
    "In that case 7 should not be included in the product and the values to its left also should not be included.\n",
    "If there is only 1 value to be considered, display that value itself. if no values can be included in the product display -1."
   ]
  },
  {
   "cell_type": "code",
   "execution_count": 11,
   "metadata": {},
   "outputs": [
    {
     "name": "stdout",
     "output_type": "stream",
     "text": [
      "Enter three numbers\n",
      "7 4 5\n",
      "20\n"
     ]
    }
   ],
   "source": [
    "\n",
    "print(\"Enter three numbers\")\n",
    "\n",
    "def print_product(a,b,c):\n",
    "    if(a == 7):\n",
    "        print(b*c)\n",
    "    elif( b == 7 ):\n",
    "        print(c)\n",
    "    elif(c == 7):\n",
    "        print(-1)\n",
    "    else:\n",
    "        print(a*b*c)\n",
    "A,B,C = map(int,input().split())\n",
    "print_product(A,B,C)"
   ]
  },
  {
   "cell_type": "raw",
   "metadata": {},
   "source": [
    "2) Write a python function to check whether 3 give numbers can form the sides of a triangle.\n",
    "HINT: 3 numbers can be sides of a triangle if none of the numbers is greater than sum of other two numbers."
   ]
  },
  {
   "cell_type": "code",
   "execution_count": 6,
   "metadata": {},
   "outputs": [
    {
     "name": "stdout",
     "output_type": "stream",
     "text": [
      "Enter the lengths:\n",
      "9 8 7\n",
      "The given lengths can form a triangle\n"
     ]
    }
   ],
   "source": [
    "\n",
    "def check_triangle(a,b,c):\n",
    "    success = \"The given lengths can form a triangle\"\n",
    "    failure = \"The given lengths form a triangle\"\n",
    "    \n",
    "    if(a>(b+c)):\n",
    "        print(failure)\n",
    "    elif(b>(a+c)):\n",
    "        print(failure)\n",
    "    elif(c>(a+b)):\n",
    "        print(failure)\n",
    "    else:\n",
    "        print(success)\n",
    "print(\"Enter the lengths:\")\n",
    "A,B,C = map(int,input().split())\n",
    "check_triangle(A,B,C)"
   ]
  },
  {
   "cell_type": "raw",
   "metadata": {},
   "source": [
    "3) You have x no. of 5 rupee coins. you want to purchase an item for amount z. The shopkeeper wants you to provide exact change\n",
    "   You want to pay using min. no. of coins. How many 5 rupee & 1 rupee coins will you use? if exact chaneg is not possible \n",
    "   display -1.    \n"
   ]
  },
  {
   "cell_type": "code",
   "execution_count": 8,
   "metadata": {},
   "outputs": [
    {
     "name": "stdout",
     "output_type": "stream",
     "text": [
      "Enter the no. 1 rs coins:  2\n",
      "Enter the no. of 5 rs coins 4\n",
      "Enter the amount to pay: 21\n",
      "The number of coins are\n",
      "5 ruppee coins: 4\n",
      "1 ruppee coins: 1\n"
     ]
    }
   ],
   "source": [
    "\n",
    "def solve(f,o,tot):\n",
    "    cnt5 = 0\n",
    "    cnt1 = 0\n",
    "    if(tot > ((f*5)+(o))):\n",
    "        return -1\n",
    "    if(tot>=5):\n",
    "        cnt5 += (tot//5)\n",
    "    \n",
    "    cnt1 = cnt1 + (tot%5)\n",
    "        \n",
    "    return [cnt5,cnt1]\n",
    "\n",
    "\n",
    "print(\"Enter the no. 1 rs coins: \",end=\" \")\n",
    "o = int(input())\n",
    "print(\"Enter the no. of 5 rs coins\",end=\" \")\n",
    "f = int(input())\n",
    "print(\"Enter the amount to pay:\",end=\" \")\n",
    "tot = int(input())\n",
    "ans = solve(f,o,tot)\n",
    "\n",
    "if(ans == -1):\n",
    "    print(\"amount to be paid is high!!\")\n",
    "else:\n",
    "    print(\"The number of coins are\")\n",
    "    print(\"5 ruppee coins:\",ans[0])\n",
    "    print(\"1 ruppee coins:\",ans[1])\n"
   ]
  },
  {
   "cell_type": "raw",
   "metadata": {},
   "source": [
    "4) The metro bank provides various types of loans such as car loans, business loans and house loans to its account holders.\n",
    "   Write a python program to implement the following:\n",
    "\n",
    "\tInitialize the following variables with appropriate input values:\n",
    "\t\taccount_number, account_balance, salary, loan_type, loan_amount_expected and customer_emi_expected\n",
    "\t\n",
    "\tThe account number should be of 4 digits and its first digit should be 1.\n",
    "\n",
    "\tThe customer should have a min. balance of rupees 1 Lakh in the account.\n",
    "\n",
    "\tIf the above rules are valid, determine the eligible loan amount and the EMI that the bank can provide to \n",
    "\tits customers based on their salary and the loan type they expect to avail.\n",
    "\n",
    "\tThe bank would provide the loan, only if the loan amount and the no. of EMI's requested by the customer is less \n",
    "\tthan or equal to loan amount and the no. of EMI's decided by the bank res.\n",
    "\n",
    "Display appropriate error messages for all invalid data. If all the business rules are satisfied, then display account number, \n",
    "eligible and requested loan amount and EMI's\n"
   ]
  },
  {
   "cell_type": "code",
   "execution_count": null,
   "metadata": {},
   "outputs": [],
   "source": [
    "# print(\"Enter account_number,account_balance,salary,loan_type,loan_amount_expected,emi_expected\")\n",
    "account_number,account_balance,salary,loan_amount_expected,emi_expected =map(int,input().split())\n",
    "loan_type = input()\n",
    "def validator():\n",
    "    flag=True\n",
    "    if(account_number<1000 or account_number>=2000):\n",
    "        flag=False\n",
    "    if salary<100000:\n",
    "        flag=False\n",
    "    return flag\n",
    "def IsLoanGiven():\n",
    "    issued=\"Loan issued\"\n",
    "    fail=\"Loan not issued\"\n",
    "    if loan_type==\"car\":\n",
    "        if salary>25000 and loan_amount_expected<=500000 and emi_expected<=36:\n",
    "            return issued\n",
    "        else:\n",
    "            return fail\n",
    "    elif loan_type==\"house\":    \n",
    "        if salary>50000 and loan_amount_expected<=6000000 and emi_expected<=60:\n",
    "            return issued\n",
    "        else:\n",
    "            return fail\n",
    "    elif loan_type==\"business\":\n",
    "        if salary>75000 and loan_amount_expected<=7500000 and emi_expected<=84:\n",
    "            return issued\n",
    "        else:\n",
    "            return fail\n",
    "    else:\n",
    "        return \"Invalid loan type\"\n",
    "if(validator()):\n",
    "    print(IsLoanGiven())\n",
    "else:\n",
    "    print(\"Invalid account number or bank balance\")"
   ]
  },
  {
   "cell_type": "raw",
   "metadata": {},
   "source": [
    "5) Write a python pgm to solve a classic ancient chinese puzzle.\n",
    "We count 35 heads and 94 legs among the chickens and rabits in a farm. How many rabbits and how many chickens do we have\n",
    "\n",
    "\t// I/P \t\tO/P\n",
    "\t150 400\t\t100 50\n",
    "\t3 11\t\tNo solution\n",
    "\t3 12\t\t0 3\n"
   ]
  },
  {
   "cell_type": "code",
   "execution_count": 16,
   "metadata": {},
   "outputs": [
    {
     "name": "stdout",
     "output_type": "stream",
     "text": [
      "Enter the number of heads: 150 \n",
      "Enter the number of legs: 400\n",
      "Rabbit : 50\n",
      "Chickens : 100\n"
     ]
    }
   ],
   "source": [
    "\n",
    "def count(heads,legs):\n",
    "    if(((legs)-(2*heads))&1):\n",
    "        return -1\n",
    "    rabbit = (legs-(2*heads))//2\n",
    "    chick = heads-rabbit\n",
    "    return [rabbit,chick]\n",
    "\n",
    "heads = int(input(\"Enter the number of heads: \"))\n",
    "legs = int(input(\"Enter the number of legs: \"))\n",
    "ans = count(heads,legs)\n",
    "if(ans == -1 ):\n",
    "    print(\"Not possible\")\n",
    "else:\n",
    "    print(\"Rabbit :\",ans[0])\n",
    "    print(\"Chickens :\",ans[1])\n"
   ]
  },
  {
   "cell_type": "markdown",
   "metadata": {},
   "source": [
    "problem 6 explore turtle library"
   ]
  },
  {
   "cell_type": "code",
   "execution_count": 2,
   "metadata": {},
   "outputs": [
    {
     "ename": "KeyboardInterrupt",
     "evalue": "",
     "output_type": "error",
     "traceback": [
      "\u001b[1;31m---------------------------------------------------------------------------\u001b[0m",
      "\u001b[1;31mKeyboardInterrupt\u001b[0m                         Traceback (most recent call last)",
      "\u001b[1;32mC:\\Users\\GADDAM~1\\AppData\\Local\\Temp/ipykernel_13224/1613101654.py\u001b[0m in \u001b[0;36m<module>\u001b[1;34m\u001b[0m\n\u001b[0;32m     12\u001b[0m     \u001b[0mt\u001b[0m\u001b[1;33m.\u001b[0m\u001b[0mcircle\u001b[0m\u001b[1;33m(\u001b[0m\u001b[0mr\u001b[0m \u001b[1;33m*\u001b[0m \u001b[0mi\u001b[0m\u001b[1;33m)\u001b[0m\u001b[1;33m\u001b[0m\u001b[1;33m\u001b[0m\u001b[0m\n\u001b[0;32m     13\u001b[0m \u001b[1;32mfor\u001b[0m \u001b[0mi\u001b[0m \u001b[1;32min\u001b[0m \u001b[0mrange\u001b[0m\u001b[1;33m(\u001b[0m\u001b[0mn\u001b[0m \u001b[1;33m+\u001b[0m \u001b[1;36m1\u001b[0m\u001b[1;33m,\u001b[0m\u001b[1;36m1\u001b[0m\u001b[1;33m,\u001b[0m \u001b[1;33m-\u001b[0m\u001b[1;36m1\u001b[0m\u001b[1;33m)\u001b[0m\u001b[1;33m:\u001b[0m\u001b[1;33m\u001b[0m\u001b[1;33m\u001b[0m\u001b[0m\n\u001b[1;32m---> 14\u001b[1;33m     \u001b[0mt\u001b[0m\u001b[1;33m.\u001b[0m\u001b[0mcircle\u001b[0m\u001b[1;33m(\u001b[0m\u001b[0mr\u001b[0m \u001b[1;33m*\u001b[0m \u001b[0mi\u001b[0m\u001b[1;33m)\u001b[0m\u001b[1;33m\u001b[0m\u001b[1;33m\u001b[0m\u001b[0m\n\u001b[0m",
      "\u001b[1;32m~\\anaconda3\\lib\\turtle.py\u001b[0m in \u001b[0;36mcircle\u001b[1;34m(self, radius, extent, steps)\u001b[0m\n\u001b[0;32m   1991\u001b[0m             \u001b[0mself\u001b[0m\u001b[1;33m.\u001b[0m\u001b[0mspeed\u001b[0m\u001b[1;33m(\u001b[0m\u001b[0mspeed\u001b[0m\u001b[1;33m)\u001b[0m\u001b[1;33m\u001b[0m\u001b[1;33m\u001b[0m\u001b[0m\n\u001b[0;32m   1992\u001b[0m             \u001b[0mself\u001b[0m\u001b[1;33m.\u001b[0m\u001b[0m_go\u001b[0m\u001b[1;33m(\u001b[0m\u001b[0ml\u001b[0m\u001b[1;33m)\u001b[0m\u001b[1;33m\u001b[0m\u001b[1;33m\u001b[0m\u001b[0m\n\u001b[1;32m-> 1993\u001b[1;33m             \u001b[0mself\u001b[0m\u001b[1;33m.\u001b[0m\u001b[0mspeed\u001b[0m\u001b[1;33m(\u001b[0m\u001b[1;36m0\u001b[0m\u001b[1;33m)\u001b[0m\u001b[1;33m\u001b[0m\u001b[1;33m\u001b[0m\u001b[0m\n\u001b[0m\u001b[0;32m   1994\u001b[0m             \u001b[0mself\u001b[0m\u001b[1;33m.\u001b[0m\u001b[0m_rotate\u001b[0m\u001b[1;33m(\u001b[0m\u001b[0mw\u001b[0m\u001b[1;33m)\u001b[0m\u001b[1;33m\u001b[0m\u001b[1;33m\u001b[0m\u001b[0m\n\u001b[0;32m   1995\u001b[0m         \u001b[0mself\u001b[0m\u001b[1;33m.\u001b[0m\u001b[0m_rotate\u001b[0m\u001b[1;33m(\u001b[0m\u001b[1;33m-\u001b[0m\u001b[0mw2\u001b[0m\u001b[1;33m)\u001b[0m\u001b[1;33m\u001b[0m\u001b[1;33m\u001b[0m\u001b[0m\n",
      "\u001b[1;32m~\\anaconda3\\lib\\turtle.py\u001b[0m in \u001b[0;36mspeed\u001b[1;34m(self, speed)\u001b[0m\n\u001b[0;32m   2173\u001b[0m         \u001b[1;32melse\u001b[0m\u001b[1;33m:\u001b[0m\u001b[1;33m\u001b[0m\u001b[1;33m\u001b[0m\u001b[0m\n\u001b[0;32m   2174\u001b[0m             \u001b[0mspeed\u001b[0m \u001b[1;33m=\u001b[0m \u001b[1;36m0\u001b[0m\u001b[1;33m\u001b[0m\u001b[1;33m\u001b[0m\u001b[0m\n\u001b[1;32m-> 2175\u001b[1;33m         \u001b[0mself\u001b[0m\u001b[1;33m.\u001b[0m\u001b[0mpen\u001b[0m\u001b[1;33m(\u001b[0m\u001b[0mspeed\u001b[0m\u001b[1;33m=\u001b[0m\u001b[0mspeed\u001b[0m\u001b[1;33m)\u001b[0m\u001b[1;33m\u001b[0m\u001b[1;33m\u001b[0m\u001b[0m\n\u001b[0m\u001b[0;32m   2176\u001b[0m \u001b[1;33m\u001b[0m\u001b[0m\n\u001b[0;32m   2177\u001b[0m     \u001b[1;32mdef\u001b[0m \u001b[0mcolor\u001b[0m\u001b[1;33m(\u001b[0m\u001b[0mself\u001b[0m\u001b[1;33m,\u001b[0m \u001b[1;33m*\u001b[0m\u001b[0margs\u001b[0m\u001b[1;33m)\u001b[0m\u001b[1;33m:\u001b[0m\u001b[1;33m\u001b[0m\u001b[1;33m\u001b[0m\u001b[0m\n",
      "\u001b[1;32m~\\anaconda3\\lib\\turtle.py\u001b[0m in \u001b[0;36mpen\u001b[1;34m(self, pen, **pendict)\u001b[0m\n\u001b[0;32m   2458\u001b[0m             self._shapetrafo = ( scx*ca, scy*(shf*ca + sa),\n\u001b[0;32m   2459\u001b[0m                                 -scx*sa, scy*(ca - shf*sa))\n\u001b[1;32m-> 2460\u001b[1;33m         \u001b[0mself\u001b[0m\u001b[1;33m.\u001b[0m\u001b[0m_update\u001b[0m\u001b[1;33m(\u001b[0m\u001b[1;33m)\u001b[0m\u001b[1;33m\u001b[0m\u001b[1;33m\u001b[0m\u001b[0m\n\u001b[0m\u001b[0;32m   2461\u001b[0m \u001b[1;33m\u001b[0m\u001b[0m\n\u001b[0;32m   2462\u001b[0m \u001b[1;31m## three dummy methods to be implemented by child class:\u001b[0m\u001b[1;33m\u001b[0m\u001b[1;33m\u001b[0m\u001b[0m\n",
      "\u001b[1;32m~\\anaconda3\\lib\\turtle.py\u001b[0m in \u001b[0;36m_update\u001b[1;34m(self)\u001b[0m\n\u001b[0;32m   2661\u001b[0m             \u001b[0mself\u001b[0m\u001b[1;33m.\u001b[0m\u001b[0m_update_data\u001b[0m\u001b[1;33m(\u001b[0m\u001b[1;33m)\u001b[0m\u001b[1;33m\u001b[0m\u001b[1;33m\u001b[0m\u001b[0m\n\u001b[0;32m   2662\u001b[0m             \u001b[0mself\u001b[0m\u001b[1;33m.\u001b[0m\u001b[0m_drawturtle\u001b[0m\u001b[1;33m(\u001b[0m\u001b[1;33m)\u001b[0m\u001b[1;33m\u001b[0m\u001b[1;33m\u001b[0m\u001b[0m\n\u001b[1;32m-> 2663\u001b[1;33m             \u001b[0mscreen\u001b[0m\u001b[1;33m.\u001b[0m\u001b[0m_update\u001b[0m\u001b[1;33m(\u001b[0m\u001b[1;33m)\u001b[0m                  \u001b[1;31m# TurtleScreenBase\u001b[0m\u001b[1;33m\u001b[0m\u001b[1;33m\u001b[0m\u001b[0m\n\u001b[0m\u001b[0;32m   2664\u001b[0m             \u001b[0mscreen\u001b[0m\u001b[1;33m.\u001b[0m\u001b[0m_delay\u001b[0m\u001b[1;33m(\u001b[0m\u001b[0mscreen\u001b[0m\u001b[1;33m.\u001b[0m\u001b[0m_delayvalue\u001b[0m\u001b[1;33m)\u001b[0m \u001b[1;31m# TurtleScreenBase\u001b[0m\u001b[1;33m\u001b[0m\u001b[1;33m\u001b[0m\u001b[0m\n\u001b[0;32m   2665\u001b[0m         \u001b[1;32melse\u001b[0m\u001b[1;33m:\u001b[0m\u001b[1;33m\u001b[0m\u001b[1;33m\u001b[0m\u001b[0m\n",
      "\u001b[1;32m~\\anaconda3\\lib\\turtle.py\u001b[0m in \u001b[0;36m_update\u001b[1;34m(self)\u001b[0m\n\u001b[0;32m    559\u001b[0m         \"\"\"Redraw graphics items on canvas\n\u001b[0;32m    560\u001b[0m         \"\"\"\n\u001b[1;32m--> 561\u001b[1;33m         \u001b[0mself\u001b[0m\u001b[1;33m.\u001b[0m\u001b[0mcv\u001b[0m\u001b[1;33m.\u001b[0m\u001b[0mupdate\u001b[0m\u001b[1;33m(\u001b[0m\u001b[1;33m)\u001b[0m\u001b[1;33m\u001b[0m\u001b[1;33m\u001b[0m\u001b[0m\n\u001b[0m\u001b[0;32m    562\u001b[0m \u001b[1;33m\u001b[0m\u001b[0m\n\u001b[0;32m    563\u001b[0m     \u001b[1;32mdef\u001b[0m \u001b[0m_delay\u001b[0m\u001b[1;33m(\u001b[0m\u001b[0mself\u001b[0m\u001b[1;33m,\u001b[0m \u001b[0mdelay\u001b[0m\u001b[1;33m)\u001b[0m\u001b[1;33m:\u001b[0m\u001b[1;33m\u001b[0m\u001b[1;33m\u001b[0m\u001b[0m\n",
      "\u001b[1;32m~\\anaconda3\\lib\\tkinter\\__init__.py\u001b[0m in \u001b[0;36mupdate\u001b[1;34m(self)\u001b[0m\n\u001b[0;32m   1312\u001b[0m     \u001b[1;32mdef\u001b[0m \u001b[0mupdate\u001b[0m\u001b[1;33m(\u001b[0m\u001b[0mself\u001b[0m\u001b[1;33m)\u001b[0m\u001b[1;33m:\u001b[0m\u001b[1;33m\u001b[0m\u001b[1;33m\u001b[0m\u001b[0m\n\u001b[0;32m   1313\u001b[0m         \u001b[1;34m\"\"\"Enter event loop until all pending events have been processed by Tcl.\"\"\"\u001b[0m\u001b[1;33m\u001b[0m\u001b[1;33m\u001b[0m\u001b[0m\n\u001b[1;32m-> 1314\u001b[1;33m         \u001b[0mself\u001b[0m\u001b[1;33m.\u001b[0m\u001b[0mtk\u001b[0m\u001b[1;33m.\u001b[0m\u001b[0mcall\u001b[0m\u001b[1;33m(\u001b[0m\u001b[1;34m'update'\u001b[0m\u001b[1;33m)\u001b[0m\u001b[1;33m\u001b[0m\u001b[1;33m\u001b[0m\u001b[0m\n\u001b[0m\u001b[0;32m   1315\u001b[0m \u001b[1;33m\u001b[0m\u001b[0m\n\u001b[0;32m   1316\u001b[0m     \u001b[1;32mdef\u001b[0m \u001b[0mupdate_idletasks\u001b[0m\u001b[1;33m(\u001b[0m\u001b[0mself\u001b[0m\u001b[1;33m)\u001b[0m\u001b[1;33m:\u001b[0m\u001b[1;33m\u001b[0m\u001b[1;33m\u001b[0m\u001b[0m\n",
      "\u001b[1;31mKeyboardInterrupt\u001b[0m: "
     ]
    }
   ],
   "source": [
    "\n",
    "  \n",
    "import turtle\n",
    "    \n",
    "t = turtle.Turtle()\n",
    "\n",
    "r = 10\n",
    "  \n",
    "# number of circles\n",
    "n = 10\n",
    "  \n",
    "# loop for printing tangent circles\n",
    "for i in range(1, n + 1, 1):\n",
    "    t.circle(r * i)\n",
    "for i in range(n + 1,1, -1):\n",
    "    t.circle(r * i)"
   ]
  },
  {
   "cell_type": "raw",
   "metadata": {},
   "source": [
    "7) Write a python pgm which finds the max. number from num1 to num2 (inclusive) based on the following rules.\n",
    "\n",
    "\ta) Always num1 should be less than num2\n",
    "\tb) Consider each number from num1 to num2 (inclusive). Populate the number into a list, if below conditions satisfies:\n",
    "\t\t* Sum of digits of the number is a multiple of 3\n",
    "\t\t* Number has only 2 digits\n",
    "\t\t* Number is a multiple of 5\n",
    "\tc) Display max. element from the list\n",
    "   In case of invalid data or if list is empty, display -1."
   ]
  },
  {
   "cell_type": "code",
   "execution_count": 11,
   "metadata": {},
   "outputs": [
    {
     "name": "stdout",
     "output_type": "stream",
     "text": [
      "Enter two numbers: 15 75\n",
      "[15, 30, 45, 60, 75]\n",
      "Max form list is 75\n"
     ]
    }
   ],
   "source": [
    "a,b = map(int,input(\"Enter two numbers: \").split())\n",
    "def generate(a,b):\n",
    "    l = []\n",
    "    for i in range(a,b+1):\n",
    "        t = list(map(int, str(i)))\n",
    "\n",
    "        ts = sum(t)\n",
    "        if(ts%3 == 0 and len(t) == 2 and i%5 == 0):\n",
    "            l.append(i)\n",
    "    return l\n",
    "\n",
    "print(generate(a,b))\n",
    "print(\"Max form list is\",max(generate(a,b)))"
   ]
  },
  {
   "cell_type": "raw",
   "metadata": {},
   "source": [
    "8) Write a python program to generate the next 15 leap years starting from given year. Populate the leap years into a list\n",
    "   and display the list."
   ]
  },
  {
   "cell_type": "code",
   "execution_count": 13,
   "metadata": {},
   "outputs": [
    {
     "name": "stdout",
     "output_type": "stream",
     "text": [
      "Enter an year: 1999\n",
      "The next 15 leap years are: 2000 2004 2008 2012 2016 2020 2024 2028 2032 2036 2040 2044 2048 2052 2056 2060\n"
     ]
    }
   ],
   "source": [
    "year = int(input(\"Enter an year: \"))\n",
    "\n",
    "def checkYear(year):\n",
    "    if (year % 4) == 0:\n",
    "        if (year % 100) == 0:\n",
    "            if (year % 400) == 0:\n",
    "                return True\n",
    "            else:\n",
    "                return False\n",
    "        else:\n",
    "             return True\n",
    "    else:\n",
    "        return False\n",
    "def generate(year):\n",
    "    l = []\n",
    "    cnt = 0\n",
    "    year += 1\n",
    "    while(cnt<=15):\n",
    "        if(checkYear(year)):\n",
    "            l.append(year)\n",
    "            cnt +=1\n",
    "        year += 1\n",
    "    return l\n",
    "\n",
    "print(\"The next 15 leap years are:\",*generate(year))"
   ]
  },
  {
   "cell_type": "raw",
   "metadata": {},
   "source": [
    "9) ARS gems Store sells different varieties of gems to its customers. \n",
    "\tWrite a Python program to calculate the bill amount to be paid by a customer based on the list of gems and quantity purchased. Any purchase with a total bill amount above Rs. 30000 is entitled for 5% discount. If any gen required by \n",
    "\tthe customer is not available in store, then consider bill amount to be -1\n",
    "\n",
    "\tAssume that quantity required by cutomer for any gen will always be > 0\n",
    "\tPeform case-senistive comparision  "
   ]
  },
  {
   "cell_type": "code",
   "execution_count": 2,
   "metadata": {},
   "outputs": [
    {
     "name": "stdout",
     "output_type": "stream",
     "text": [
      "Enter the total types of gems available in the store: 4\n",
      "Enter the gems available in the store and its corresponding quantity respectively\n",
      "A 5\n",
      "Enter the cost of each gem: 5000\n",
      "B 5\n",
      "Enter the cost of each gem: 6000\n",
      "C 5\n",
      "Enter the cost of each gem: 7000\n",
      "D 5\n",
      "Enter the cost of each gem: 8000\n",
      "\n",
      "Enter the no. gems the customers wants to buy: 3\n",
      "Enter the gems and the respective quantity the customer wants to buy??: \n",
      "D 4\n",
      "A 1\n",
      "B 1\n",
      "\n",
      "The payment to be made by the customer is 40850.0\n"
     ]
    }
   ],
   "source": [
    "def solve(d,c,cost):\n",
    "    tt = 0\n",
    "    for i in c:\n",
    "        if i not in d or c[i] > d[i]:\n",
    "            return -1\n",
    "        tt += c[i]*cost[i]\n",
    "    if(tt>30000):\n",
    "        tt = tt - (tt*0.05)\n",
    "    return tt\n",
    "        \n",
    "        \n",
    "d = {}\n",
    "cost = {}\n",
    "n = int(input(\"Enter the total types of gems available in the store: \"))\n",
    "print(\"Enter the gems available in the store and its corresponding quantity respectively\")\n",
    "for i in range(n):\n",
    "    t,q = input().split()\n",
    "    q = int(q)\n",
    "    temp = int(input(\"Enter the cost of each gem: \"))\n",
    "    cost[t] = temp\n",
    "    d[t] = q\n",
    "print()\n",
    "ni = int(input(\"Enter the no. gems the customers wants to buy: \"))\n",
    "print(\"Enter the gems and the respective quantity the customer wants to buy??: \")\n",
    "c = {}\n",
    "for i in range(ni):\n",
    "    tc,qc = input().split()\n",
    "    qc = int(qc)\n",
    "    c[tc] = qc\n",
    "ans = solve(d,c,cost)\n",
    "print()\n",
    "if(ans == -1):\n",
    "    print(\"The required gem is not available in the store !!!!\")\n",
    "else:\n",
    "    print(\"The payment to be made by the customer is\",ans)\n",
    "\n",
    "    \n",
    "    "
   ]
  },
  {
   "cell_type": "raw",
   "metadata": {},
   "source": [
    "10) Write a python function, create_largest_number(), which  accepts a list of numbers and return the largest number possible\n",
    "    by concatenating list of numbers. \n",
    "* All no.'s are two digit numbers"
   ]
  },
  {
   "cell_type": "code",
   "execution_count": 5,
   "metadata": {},
   "outputs": [
    {
     "name": "stdout",
     "output_type": "stream",
     "text": [
      "Enter 2 digit numbers:\n",
      "90 64 78\n",
      "907864\n"
     ]
    }
   ],
   "source": [
    "def create_largest_number(l):\n",
    "    l.sort(key = lambda x : -int(x[0]))\n",
    "    l = \"\".join(l)\n",
    "    return l\n",
    "print(\"Enter 2 digit numbers:\")\n",
    "l = list(map(str,input().split()))\n",
    "ans = create_largest_number(l)\n",
    "print(\"The largest possible combined number is: \",ans)\n",
    "    \n",
    "    "
   ]
  },
  {
   "cell_type": "markdown",
   "id": "d3cdec1d",
   "metadata": {},
   "source": [
    "Write a program for area of a circle"
   ]
  },
  {
   "cell_type": "code",
   "execution_count": 26,
   "id": "dd50d0ca",
   "metadata": {},
   "outputs": [
    {
     "name": "stdout",
     "output_type": "stream",
     "text": [
      "Enter the radius:5\n",
      "The Area of a circle is: 78.53981633974483\n"
     ]
    }
   ],
   "source": [
    "import math\n",
    "r=int(input(\"Enter the radius:\"))\n",
    "area=(math.pi)*r*r\n",
    "print(\"The Area of a circle is:\",area)"
   ]
  },
  {
   "cell_type": "markdown",
   "id": "2a12877a",
   "metadata": {},
   "source": [
    "Write a program for simple interest"
   ]
  },
  {
   "cell_type": "code",
   "execution_count": 13,
   "id": "94643877",
   "metadata": {},
   "outputs": [
    {
     "name": "stdout",
     "output_type": "stream",
     "text": [
      "enter ptr values:1000 1 2\n",
      "Simple interest is: 20.0\n"
     ]
    }
   ],
   "source": [
    "ptr= list(map(int,input(\"enter ptr values:\").split()))\n",
    "si=p*t*r/100\n",
    "print(\"Simple interest is:\",si)"
   ]
  },
  {
   "cell_type": "markdown",
   "id": "763ae561",
   "metadata": {},
   "source": [
    "write a program for (ax+b)/(ax-b)"
   ]
  },
  {
   "cell_type": "code",
   "execution_count": 14,
   "id": "327d5a6e",
   "metadata": {},
   "outputs": [
    {
     "name": "stdout",
     "output_type": "stream",
     "text": [
      "enter a b x values:2 3 4\n",
      "(ax+b)/(ax-b): 2.2\n"
     ]
    }
   ],
   "source": [
    "val=list(map(int,input(\"enter a b x values:\").split()))\n",
    "res=(a*x+b)/(a*x-b)\n",
    "print(\"(ax+b)/(ax-b):\",res)"
   ]
  },
  {
   "cell_type": "markdown",
   "id": "17223ea3",
   "metadata": {},
   "source": [
    "write a program for a3+b3+c3+3abc"
   ]
  },
  {
   "cell_type": "code",
   "execution_count": 25,
   "id": "22689508",
   "metadata": {},
   "outputs": [
    {
     "name": "stdout",
     "output_type": "stream",
     "text": [
      "Enter a b c values:4 5 6 \n",
      "765\n"
     ]
    }
   ],
   "source": [
    "import math\n",
    "a,b,c=list(map(int,input(\"Enter a b c values:\").split()))\n",
    "res=(a**3)+(b**3)+(c**3)+(3*a*b*c)\n",
    "print(res)\n"
   ]
  },
  {
   "cell_type": "markdown",
   "id": "beabd4dc",
   "metadata": {},
   "source": [
    "read six subject smarks and display their sum,product,average"
   ]
  },
  {
   "cell_type": "code",
   "execution_count": 5,
   "id": "b1e6c0ed",
   "metadata": {},
   "outputs": [
    {
     "name": "stdout",
     "output_type": "stream",
     "text": [
      "enter six subject marks:78 87 68 89 95 96 \n",
      "Average Marks= 85.5\n",
      "Percentage= 85.5\n"
     ]
    }
   ],
   "source": [
    "m1,m2,m3,m4,m5,m6=list(map(int,input(\"Enter six subject marks:\").split()))\n",
    "sum=m1+m2+m3+m4+m5+m6\n",
    "avg=sum/6\n",
    "per=(sum/600)*100\n",
    "print(\"Average Marks=\",avg)\n",
    "print(\"Percentage=\",per)                       \n",
    "                       \n"
   ]
  },
  {
   "cell_type": "markdown",
   "id": "c5ea476a",
   "metadata": {},
   "source": [
    "write a program for volume sphere"
   ]
  },
  {
   "cell_type": "code",
   "execution_count": 24,
   "id": "bfbd33fa",
   "metadata": {},
   "outputs": [
    {
     "name": "stdout",
     "output_type": "stream",
     "text": [
      "Enter the radius: 3\n",
      "Volume of sphere is: 113.09733552923255\n"
     ]
    }
   ],
   "source": [
    "import math\n",
    "r=int(input(\"Enter the radius: \"))\n",
    "\n",
    "sphere=4/3*(math.pi)*r*r*r\n",
    "print(\"Volume of sphere is:\",sphere)"
   ]
  },
  {
   "cell_type": "markdown",
   "id": "f36924f1",
   "metadata": {},
   "source": [
    "program to convert celsius to fahrenheit"
   ]
  },
  {
   "cell_type": "code",
   "execution_count": 23,
   "id": "5e7fa3d0",
   "metadata": {},
   "outputs": [
    {
     "name": "stdout",
     "output_type": "stream",
     "text": [
      "enter the celsius:78\n",
      "78 degree Celsius is equal to 172.4 degree Fahrenheit.\n"
     ]
    }
   ],
   "source": [
    "cel=int(input(\"enter the celsius:\"))\n",
    "fah=(cel*1.8)+32\n",
    "print(str(cel )+ \" degree Celsius is equal to \" + str(fah )+ \" degree Fahrenheit.\")"
   ]
  },
  {
   "cell_type": "raw",
   "metadata": {},
   "source": [
    "write python program to print even numbers upto given number "
   ]
  },
  {
   "cell_type": "code",
   "execution_count": 7,
   "metadata": {},
   "outputs": [
    {
     "name": "stdout",
     "output_type": "stream",
     "text": [
      "Enter the number: 300\n",
      "2 4 6 8 10 12 14 16 18 20 22 24 26 28 30 32 34 36 38 40 42 44 46 48 50 52 54 56 58 60 62 64 66 68 70 72 74 76 78 80 82 84 86 88 90 92 94 96 98 100 102 104 106 108 110 112 114 116 118 120 122 124 126 128 130 132 134 136 138 140 142 144 146 148 150 152 154 156 158 160 162 164 166 168 170 172 174 176 178 180 182 184 186 188 190 192 194 196 198 200 202 204 206 208 210 212 214 216 218 220 222 224 226 228 230 232 234 236 238 240 242 244 246 248 250 252 254 256 258 260 262 264 266 268 270 272 274 276 278 280 282 284 286 288 290 292 294 296 298 300 \n"
     ]
    }
   ],
   "source": [
    "n = int(input(\"Enter the number: \"))\n",
    "for i in range(1,n+1):\n",
    "    if(i % 2 == 0):\n",
    "        print(i,end= \" \")\n",
    "print()\n",
    "    "
   ]
  },
  {
   "cell_type": "raw",
   "metadata": {},
   "source": [
    "write python program to print odd numbers upto given number "
   ]
  },
  {
   "cell_type": "code",
   "execution_count": 8,
   "metadata": {},
   "outputs": [
    {
     "name": "stdout",
     "output_type": "stream",
     "text": [
      "Enter the number: 300\n",
      "1 3 5 7 9 11 13 15 17 19 21 23 25 27 29 31 33 35 37 39 41 43 45 47 49 51 53 55 57 59 61 63 65 67 69 71 73 75 77 79 81 83 85 87 89 91 93 95 97 99 101 103 105 107 109 111 113 115 117 119 121 123 125 127 129 131 133 135 137 139 141 143 145 147 149 151 153 155 157 159 161 163 165 167 169 171 173 175 177 179 181 183 185 187 189 191 193 195 197 199 201 203 205 207 209 211 213 215 217 219 221 223 225 227 229 231 233 235 237 239 241 243 245 247 249 251 253 255 257 259 261 263 265 267 269 271 273 275 277 279 281 283 285 287 289 291 293 295 297 299 \n"
     ]
    }
   ],
   "source": [
    "n = int(input(\"Enter the number: \"))\n",
    "for i in range(1,n+1):\n",
    "    if(i & 1):\n",
    "        print(i,end= \" \")\n",
    "print()"
   ]
  },
  {
   "cell_type": "raw",
   "metadata": {},
   "source": [
    "write a python program to print evensum"
   ]
  },
  {
   "cell_type": "code",
   "execution_count": 10,
   "metadata": {},
   "outputs": [
    {
     "name": "stdout",
     "output_type": "stream",
     "text": [
      "Enter the range: 100 300\n",
      "The even sum in the given range is: 20200\n"
     ]
    }
   ],
   "source": [
    "a,b = map(int,input(\"Enter the range: \").split())\n",
    "ans = 0\n",
    "for i in range(a,b+1):\n",
    "    if(i % 2 == 0):\n",
    "        ans += i\n",
    "print(\"The even sum in the given range is:\",ans)"
   ]
  },
  {
   "cell_type": "raw",
   "metadata": {},
   "source": [
    "write a python program to print oddsum"
   ]
  },
  {
   "cell_type": "code",
   "execution_count": 11,
   "metadata": {},
   "outputs": [
    {
     "name": "stdout",
     "output_type": "stream",
     "text": [
      "Enter the range: 100 300\n",
      "The even sum in the given range is: 30150\n"
     ]
    }
   ],
   "source": [
    "a,b = map(int,input(\"Enter the range: \").split())\n",
    "ans = 0\n",
    "for i in range(a,b+1):\n",
    "    if(i & q):\n",
    "        ans += i\n",
    "print(\"The even sum in the given range is:\",ans)"
   ]
  },
  {
   "cell_type": "raw",
   "metadata": {},
   "source": [
    "program to print factorial"
   ]
  },
  {
   "cell_type": "code",
   "execution_count": 15,
   "metadata": {},
   "outputs": [
    {
     "name": "stdout",
     "output_type": "stream",
     "text": [
      "Enter the number:25\n",
      "The factorial of 25 is 15511210043330985984000000\n"
     ]
    }
   ],
   "source": [
    "n=int(input(\"Enter the number:\"))\n",
    "fact=1\n",
    "if n<0:\n",
    "    print(\"Factorial does not exists for negative numbers!\")\n",
    "elif n ==0:\n",
    "    print(\"the factorial of 0 is 1\")\n",
    "else:\n",
    "    for i in range(1,n+1):\n",
    "        fact=fact*i\n",
    "    print(\"The factorial of\", n, \"is\",fact)"
   ]
  },
  {
   "cell_type": "raw",
   "metadata": {},
   "source": [
    "write a python program for armstrong number or not"
   ]
  },
  {
   "cell_type": "code",
   "execution_count": 16,
   "metadata": {},
   "outputs": [
    {
     "name": "stdout",
     "output_type": "stream",
     "text": [
      "Enter a number: 407\n",
      "407 is an Armstrong number\n"
     ]
    }
   ],
   "source": [
    "n = int(input(\"Enter a number: \"))\n",
    "temp = str(n)\n",
    "l = len(temp)\n",
    "s = 0\n",
    "for i in range(l):\n",
    "    s += ((int(temp[i]))**l)\n",
    "if(s == n):\n",
    "    print(n,\"is an Armstrong number\")\n",
    "else:\n",
    "    print(n,\"is not an Armstrong number\")\n",
    "    "
   ]
  },
  {
   "cell_type": "raw",
   "metadata": {},
   "source": [
    "write a python program whether the given number is prime or not"
   ]
  },
  {
   "cell_type": "code",
   "execution_count": 18,
   "metadata": {},
   "outputs": [
    {
     "name": "stdout",
     "output_type": "stream",
     "text": [
      "Enter the prime number:97\n",
      "97 is a prime number\n"
     ]
    }
   ],
   "source": [
    "n = int(input(\"Enter the prime number:\"))\n",
    "for i in range(2,n):\n",
    "    if (n % i) == 0:\n",
    "        print(n,\"is not a prime number\")\n",
    "        break\n",
    "else:\n",
    "    print(n,\"is a prime number\")"
   ]
  },
  {
   "cell_type": "raw",
   "metadata": {},
   "source": [
    "write a python program whether the number is a perfect or not"
   ]
  },
  {
   "cell_type": "code",
   "execution_count": 20,
   "metadata": {},
   "outputs": [
    {
     "name": "stdout",
     "output_type": "stream",
     "text": [
      "Enter a number: 6\n",
      "6 number is a Perfect number!!\n"
     ]
    }
   ],
   "source": [
    "n = int(input(\"Enter a number: \"))\n",
    "s = 0\n",
    "for i in range(1, n):\n",
    "    if(n % i == 0):\n",
    "        s = s + i\n",
    "if (s == n):\n",
    "    print(n,\"number is a Perfect number!!\")\n",
    "else:\n",
    "    print(n,\"number is not a Perfect number!!\")"
   ]
  },
  {
   "cell_type": "raw",
   "metadata": {},
   "source": [
    "Write a python program for sum of the digits of a given number"
   ]
  },
  {
   "cell_type": "code",
   "execution_count": 22,
   "metadata": {},
   "outputs": [
    {
     "name": "stdout",
     "output_type": "stream",
     "text": [
      "Enter a number: 987\n",
      "The sum of digits of 987 is 24\n"
     ]
    }
   ],
   "source": [
    "n = input(\"Enter a number: \")\n",
    "s = 0\n",
    "for i in range(len(n)):\n",
    "    s += int(n[i])\n",
    "print(\"The sum of digits of\",n,\"is\",s)"
   ]
  }
 ],
 "metadata": {
  "kernelspec": {
   "display_name": "Python 3 (ipykernel)",
   "language": "python",
   "name": "python3"
  },
  "language_info": {
   "codemirror_mode": {
    "name": "ipython",
    "version": 3
   },
   "file_extension": ".py",
   "mimetype": "text/x-python",
   "name": "python",
   "nbconvert_exporter": "python",
   "pygments_lexer": "ipython3",
   "version": "3.9.13"
  }
 },
 "nbformat": 4,
 "nbformat_minor": 4
}
